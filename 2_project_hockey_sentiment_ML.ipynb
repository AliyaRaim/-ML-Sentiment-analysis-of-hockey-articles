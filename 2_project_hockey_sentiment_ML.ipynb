{
  "cells": [
    {
      "cell_type": "markdown",
      "metadata": {
        "id": "phpaQByvPz0k"
      },
      "source": [
        "Сентимент-анализ текстов о хоккее в русскоязычных и англоязычных СМИ с использованием ML. Сравнение со словарным методом. Обучение двуязычной модели для анализа тональностей."
      ]
    },
    {
      "cell_type": "markdown",
      "metadata": {
        "id": "-UY4XOX1Wa4G"
      },
      "source": [
        "Райманова Алия Азатовна"
      ]
    },
    {
      "cell_type": "code",
      "execution_count": null,
      "metadata": {
        "id": "MYDZF5QoPz0m"
      },
      "outputs": [],
      "source": [
        "import pandas as pd\n",
        "import re"
      ]
    },
    {
      "cell_type": "code",
      "execution_count": null,
      "metadata": {
        "collapsed": true,
        "id": "qKSTGt4CPz0o",
        "outputId": "a3d46e3c-cd64-4ea5-be4c-63df552686f7"
      },
      "outputs": [
        {
          "data": {
            "text/plain": [
              "['Потому что нюанс у этого подписания огромный.\\xa0\\n\\n\\r\\nПосле смены руководства\\xa0СКА\\xa0не провел ни одного трансфера. Рынок с каждым днем становится все менее привлекательным, а клуб из Санкт-Петербурга в межсезонье потерял много лидеров - Бардаков, Грицюк, Никишин и Демидов. Однако понять отсутствие переходов можно, так как новым людям нужно время, чтобы разобраться в нюансах и хоккейных деталях. Да и не сказать, что команда из Питера ничего не делает. Ходили ведь слухи об интересе к Голдобину и Локтионову.\\xa0\\n\\n\\n\\n\\n\\n\\r\\nСовсем недавно сообщалось, что команду с берегов Невы пополнит Ларионов-младший - сын нового главного тренера СКА. И касательно этого перехода есть большие сомнения. Потому что переход родственника - это всегда риск. Потому что в коллективе климат может стать хуже. Потому что так или иначе многие будут задаваться вопросами касательно игрового времени, стиля и набранных баллов. Если родственник главного тренера заходит в команду, то должен давать максимальный результат со старта, чтобы зарекомендовать себя.\\xa0\\r\\n\\n\\r\\nИсточник: сын Ларионова подпишет со СКА контракт на один годНапомним, что на пресс-конференции, когда Ларионов возглавил клуб, главный тренер заявил, что переход его сына - это \"открытый вопрос\", но многие уже понимали, что шансы зайти в главную команду из Северной столицы у Ларионова-младшего достаточно высокие.\\r\\n\"У нас сегодня нехватка умных центров, поэтому это открытый вопрос. Знаю, что по нему поступило несколько предложений от других клубов. Он вышел на рынок, и важно понять, как мы будем двигаться дальше. Позиция центра очень важна. Будем рассматривать и его позицию в этой команде\", - сказал тогда главный тренер СКА.\\n\\n\\n\\r\\nВспоминается сразу же интервью другого тренера КХЛ - Бенуа Гру, который дошел в этом сезоне до финала Кубка Гагарина. Главный тренер клуба из Челябинска объяснил, что в его команде сын играть не будет, потому что в этой схеме есть много нюансов, которые могут повлиять на команду.\\xa0\\r\\n\"Хотел ли я быть главным тренером в команде сына? Никогда. Может ли Бо Гру играть в КХЛ? Только не в моей команде. Я считаю, что это не способствовало бы созданию здоровых отношений между игроком и тренером. В одной из команд АХЛ, в которой я работал, мне сказали: \"Что думаешь, если мы получим твоего сына в ходе обмена?\" Я ответил: \"Это хорошие новости, но я пойду тренировать тогда другую команду\". Я уверен, что ничего бы не получилось и не заработало так, как надо”, - рассказывал Бенуа.\\r\\n\\n\\r\\nГру: хотел ли я быть главным тренером в команде своего сына? НикогдаЕсть ли большая необходимость в Питере в Ларионове-младшем? Сейчас будто бы и нет. Во-первых, позиции первого-второго центра команды он вряд ли потянет. СКА - топ-клуб, которому нужны именитые хоккеисты в центре первых двух троек. Потому что задача клуба из Санкт-Петербурга - Кубок Гагарина. Во-вторых, на позицию третьего центра вполне способен зайти в этом году юный и талантливый Короткий, который себя очень здорово проявил и за СКА, и в финале МХЛ. Как мы помним, в Питере сейчас будут делать упор на собственную вертикаль.\\r\\nВ-третьих, стоит обратить внимание на количество проведенных матчей у Ларионова-младшего. В прошлом сезоне - 38 игр, в позапрошлом - 44, в сезоне-2022/2023 - 40 встреч. То есть, уже нужно держать в голове момент с травматичностью хоккеиста. В четвертой тройке Ларионов-младший играть не сможет, потому что у него другой функционал, а если брать первые две тройки, то СКА, скорее, нужны игроки по типу Глотова, Кузнецова и так далее. Если Ларионов-младший пополнит состав в роли игрока ротации-глубины на контракте КХЛ-ВХЛ, то вопросов будет меньше.\\n\\n\\n\\r\\nНо самое главное и проблемное - это климат внутри коллектива. Когда играет родственник, то он должен моментально заявить о себе, дать максимальный результат, потому что иначе могут появиться большие вопросы. И когда они появляются у представителей СМИ - это одно, но другое - когда вопросы появляются у игроков к главному тренеру. Именно по этой причине тот же Гру довольно резко и предельно понятно высказался о том, смог ли его сын перейти в команду из Челябинска.\\r\\n\"Речь идет о профессиональном хоккее, о моём сыне и его карьере. И все, с кем мы это ни обсуждали, говорили, \"Бен, ты ему передохнуть-то не дашь. Всегда будешь более строгим с ним\". Но я не знаю, я никогда не пробовал даже тренировать сына. Знаю, что я думал бы на месте другого игрока, который тоже центральный нападающий. Я должен был сказать: \"Мой сын будет играть в большинстве вместо тебя\". Он, конечно же, скажет: \"Как иначе? Ты же его отец, понимаю\", - рассказывал Бенуа.\\r\\nСКА нужно держать в уме, что этот переход достаточно легкий на бумаге, но концептуально - очень сложный. Потому что есть более молодые и талантливые игроки, которые на этапе перестройки (у СКА сейчас как раз она проходит) должны быть в приоритете. В топ-6 в центре должны играть мастеровитые игроки, а в четвертой тройке - работяги. В плюс Ларионову-младшему можно отнести то, что он набирал более 20 очков (0,77, 0,45, 0,52 в среднем за матч) за свои неполноценные сезоны: 31 (7+24), 20 (8+12) и 20 (5+15). Но такой игрок будто бы сейчас - не главная цель для СКА, а вот в другой команде (\"Амур\", \"Северсталь\", \"Нефтехимик\") роль третьего центра могла бы Ларионову-младшему подойти. Посмотрим, окажется ли сын главного тренера СКА в итоге в Северной столице, но на данный момент сложностей будто бы больше, чем плюсов. Даже несмотря на то, что Ларионова-младшего мы считаем неплохим по меркам КХЛ хоккеистом.',\n",
              " 'Клубу нужно решить данную задачу.\\n\\n\\r\\nВ межсезонье перед московским \"Динамо\" стояла одна большая задача - сохранить костяк игроков, который дошел до полуфинала Кубка Гагарина-2025. Не сказать, что бело-голубые на все 100% решили данную задачу, потому что потерь не избежать. Даже чемпионский \"Локомотив\" сохранил не всех игроков. Но в то же время нельзя сказать, что московское \"Динамо\" потеряло базу и фундамент.\\n\\n\\n\\n\\n\\n\\r\\nЭто и про продления Пыленкова и Джиошвили, например. Унесут ли ребята новые контракты - другая тема, но это важные игроки в системе. Есть вопросы по поводу будущего Рашевского, который может и сменить команду, несмотря на то, что бело-голубые повторили предложение от \"Авангарда\". Но в то же время состав пополнил Классон, которого можно назвать хорошей заменой Сизову. \"Динамо\" Москва нужен был опытный домосед, который способен подстраховать молодых игроков. Не забываем, что в состав бело-голубых вернулись Паталаха и Шараканов, которые доказали, что могут быть полезными на уровне Континентальной хоккейной лиги.\\n\\n\\n\\r\\nУход Кудрявцева спокойно должен перекрыть Броссо, а если не продлится Слепышев, то сейчас активно в московское \"Динамо\" провожают Мамина, который, по информации источников, заработает 60 миллионов рублей.\\n\\n\\r\\nИсточник раскрыл зарплату Мамина в \"Динамо\" МоскваОднако дальше должна пойти очень детальная селекция. По информации \"Спорт-Экспресс\", у бело-голубых сейчас есть всего 50 миллионов рублей свободных средств под потолком. Линия обороны переполнена, следовательно, возможно, что отпустят одного игрока защиты, мы делаем ставку, что клуб покинет Менелл - освободится еще 55 миллионов рублей. Плюс, возможно, перейдет в другую команду Рашевский - еще минус 55 миллионов рублей. В общей сумме будет свободно 160 миллионов рублей. Минус Мамин - 60 миллионов рублей. И в остатке 100 миллионов рублей.\\xa0\\r\\nНепонятно, как на эти средства \"Динамо\" Москва будет укрепляться. Потому что нужно продлить Гусева, а Никита зарабатывал 70 миллионов рублей в прошлом чемпионате. Сейчас рынок такой, что вряд ли нападающий упадет в цене, но возьмем 60-70 миллионов рублей. Остается еще 30-40 миллионов рублей. Говорят, что в список усилений входит нападающий Андреофф. Но сейчас в его переход не особо верится. Во-первых, игроков подобной роли в команде хватает - Михеев, Пакетт и Уил. Во-вторых, в приоритете должен быть Комтуа, а Максим может и остаться (права находятся в распоряжении \"Динамо\" Москва), а может и продолжить карьеру в Северной Америке. Вот если Макс решит, что он уезжает, то тогда трансфер Андреоффа будет более актуальным. Но в любом случае, скорее всего, придется либо кого-то переподписывать, либо с кем-то расставаться.\\xa0\\r\\n\\nИсточник: московское \"Динамо\" может подписать Андреоффа\\n\\n\\n\\r\\nСейчас \"Динамо\" Москва на такой промежуточной стадии. Понятно то, что костяк удалось сохранить, а это означает, что клуб продолжит быть конкурентным и будет решать большие задачи в следующем сезоне. С другой стороны, трансферов на вход и на выход еще ждать определенно стоит. Селекция далека от финальной стадии. Посмотрим, что придумает менеджмент.']"
            ]
          },
          "execution_count": 2,
          "metadata": {},
          "output_type": "execute_result"
        }
      ],
      "source": [
        "ru_df = pd.read_json(\"khl_articles_summer.jsonl\", lines=True)\n",
        "ru_texts = ru_df[\"text\"].tolist()\n",
        "ru_texts[:2]"
      ]
    },
    {
      "cell_type": "code",
      "execution_count": null,
      "metadata": {
        "collapsed": true,
        "id": "n4aewMTuPz0p",
        "outputId": "87b28602-1f26-4280-bc04-c6cec42e2336"
      },
      "outputs": [
        {
          "data": {
            "text/plain": [
              "[\"Six weeks out from the March 7 trade deadline, the market is still taking shape.\\nActivity has slowed after a flurry of moves earlier in the season, and it’s still unclear what direction a cluster of teams hovering around the Eastern Conference wild-card picture are going to go.\\nAnother wrinkle comes in the form of the upcoming 4 Nations Face-Off, which will see the NHL schedule halted for 12 days in February and may push the bulk of trades into a two-week period leading into the deadline.\\nAdvertisement\\nConsider this the calm before the storm.\\nAs we take stock of what’s to come, it’s the return of the Big Board with nine new targets, including a few top-of-the-lineup stars. Players are listed by how closely they demand watching, based on their potential impact and the current amount of buzz around them.\\nNote: Net Ratings and market values are via Dom Luszczyszyn’s model and are projected for the full season based on statistics through Jan. 22. Goals saved above expected (GSAx) are via Evolving-Hockey, also through Jan. 22. Contract info is via CapWages.\\nMiller is in possession of a full no-movement clause in his contract and likely will only waive it for U.S.-based teams in the East. That’s why a return to the New York Rangers, who drafted him 15th in 2011, makes so much sense. Miller is an all-situations forward who produces top-of-the-lineup offense while being counted on to kill penalties and log tough defensive minutes. His versatility is a major asset, as is his competitive nature, which is something he needs to rein in from time to time. Miller would immediately become a top-two or top-three forward on basically any team in the league.\\nNelson is a big, sturdy forward who has scored at a 35-goal pace across the past three seasons. He can be slotted as a second-line center or slide into a wing spot on the top line. As a pending unrestricted free agent, he’s exactly the kind of difference-maker contending teams would be falling over themselves to get their hands on if — and it remains a massive if — the Islanders fade from the playoff picture and choose to move him before the deadline.\\nThe 2019 Conn Smythe Trophy winner has two more seasons remaining on his contract and has already indicated a desire to stay in Nashville. However, it might not ultimately be his call. The organization wants to do right by O’Reilly, but general manager Barry Trotz will be forced to make a decision if he gets a strong trade offer amid a disappointing season for the team. O’Reilly is an excellent two-way center who can be couned on to chip in offensively and has the ability to be a true difference-maker for a contender. As an added bonus, he’s a menace in the faceoff circle, too.\\nWhat he lacks in size, he makes up in tenacity and feistiness. Gourde is a strong skater and two-way player who owns a couple of Stanley Cup rings from his time with Tampa Bay. His offensive numbers and ice time are down this season, but he’ll draw attention if Seattle fades from the playoff picture in the run-up to the trade deadline. One thing worth monitoring is Gourde’s health as he’s missed a couple of different stretches already this season.\\nMontreal’s acquisition of Alexandre Carrier in December likely sealed Savard’s fate. At a minimum, it made the veteran defenseman on an expiring contract much more expendable. Savard should have suitors as a depth option and penalty killer, and it certainly doesn’t hurt that he carries the experience of a Stanley Cup win with Tampa Bay in 2021 after being acquired midway through that season. He’s also a right shot who routinely sacrifices his body to block shots, both of which are attributes good teams can always use more of.\\nRangy and reliable, there’s nothing flashy about Pettersson’s game. But he has proven in recent years that he can handle 20-plus minutes per night while helping drive play at even strength, and he should be able to slot in as a second-pairing defenseman on a competitive team. Penguins general manager Kyle Dubas has a big project on his hands, but Pettersson is his most attractive asset to peddle at this year’s deadline, and Dubas seems motivated to start turning over his roster. He is looking for young NHL players or prospects back in return, rather than draft picks.\\nA Big Board mainstay, this may finally be the season Gibson finds his way back to a competitive team. He’s lost the No. 1 job in Anaheim to Lukáš Dostál and is inching ever closer to the end of a contract with two years remaining on it after this one. That’s been the biggest impediment to finding him a new home. While Gibson's numbers in recent seasons don’t jump off the page in a positive way, they should be viewed with the understanding that he’s played behind some horrific defensive teams. He’s also had a major bounce-back performance so far this season. On a trade market with very few goaltending options available, Gibson has the highest ceiling.\\nYou can add his name to the long list of underperforming Bruins, but it’s worth noting Frederic is only months removed from an 18-goal, 40-point breakout campaign. He’s a big man who skates well and can effectively be deployed as a checker. With senior leadership in Boston acknowledging publicly that the team is considering becoming a seller ahead of the deadline, Frederic is a hot commodity.\\nNow into his ninth NHL season of averaging at least 23 minutes per game, this all-situations defender is delivering strong play-driving results for a Blue Jackets team that has been more competitive than many were expecting this season. Still, no one is losing sight of the big picture in Columbus. The team has started engaging the pending unrestricted free agent on extension talks but doesn't seem willing to break the bank. If someone steps up with an offer of a first-round pick for Provorov, the Blue Jackets will likely part with him.\\nThe Chicago Blackhawks aren’t believed to be shopping the veteran right-shot defenseman, but it hasn’t kept other teams from calling. Jones carries a sizeable cap hit for a lot of years, but he’s got a skillset that’s in short supply around the league. Jones is an all-around defender who can log major minutes and handle a shutdown role. He also holds a no-movement clause but may be enticed to waive it with Chicago still likely years away from completing its rebuild.\\nThe retooling Flyers are short on rental players to take to market in the lead-up to the deadline, but they could be compelled to part with the big, physical defenseman who has some term remaining. Ristolainen plays a rugged style best suited for third-pairing duty, and he’s taken meaningful steps forward over the past 18 months toward becoming a more reliable defender in his own zone. With a contract that stretches two seasons beyond this one, some salary retention might be needed to make a trade work.\\nWith Laughton signed for one season beyond this one, the Flyers are under no pressure to trade him amid a campaign in which he’s scoring at nearly a 20-goal pace. But if a contender is willing to part with a first-round pick, they might do it. Laughton would be a bottom-six upgrade for a lot of contending teams. He’s a glue guy who kills penalties and plays with an edge.\\nA relentless high-motor player who is enjoying a career season in Chicago, Donato is starting to attract some attention on the trade market. As a pending unrestricted free agent, he profiles as an attractive deadline rental who can bring versatility and depth. Donato appears to have made some strides with his skating this year and has the hands to bury offensive chances when he gets them.\\nOn the younger side of Pittsburgh’s pending unrestricted free agents, O’Connor profiles as a bottom-six forward who plays a power game. Big and stong, he’s unafraid to finish a bodycheck or engage in a battle for the puck. While he shouldn’t be looked at to produce much offensively, O’Connor can kill penalties and make life difficult on the opposition at five-on-five.\\nAt least a couple of contending teams had identified Borgen as a solid deadline target and were left disappointed when the Rangers swooped in and got him in December. However, his stay on Broadway might be rather brief. Borgen is on an expiring contract, and this Rangers season doesn’t appear to be heading anywhere promising, so he may yet be flipped. A smart right-shot defenseman with good size and skating ability, Borgen has also historically been a strong shot suppressor on the penalty kill.\\nA rough-and-tumble winger who boasts an impressive fight card, Olivier has caught the attention of at least a couple of teams currently eyeing potential depth forward options. The 27-year-old pending UFA has even managed to chip in more than his share of expected goals early this season. But what makes him most attractive is his size, strength and willingness to embrace an energy role. Olivier is built for playoff hockey and will have suitors if Columbus can't get him signed to an extension.\\nAll signs point to the pending unrestricted free agent winger getting dealt ahead of the deadline if the Kraken aren’t in the playoff chase. Tanev is known for playing a grindy game that wears on opponents, and he’s an excellent penalty killer who leads Seattle in short-handed ice time. He certainly doesn’t back down when faced with a contested piece of ice. As a bonus, he also comes with 46 games of playoff experience, too.\\nPlaying on an expiring contract, the depth center is having a career year at the perfect time. Evans appears poised to blow past previous career highs of 11 goals and 29 points. While the Canadiens like him, his surge in production may turn him into trade bait rather than someone they keep around with another contract. Evans isn’t overly big, but he’s a quick skater and effective penalty-killer. He’d be a quality fourth-line option for a contender.\\nThe veteran right-shot winger remains a serious scoring threat into his 15th NHL season. He hit 30 goals in 2023-24 and is on pace to comfortably cruise past 20 this season. As a pending unrestricted free agent, Palmieri is an attractive rental option, especially with his willingness to battle his way to the hard areas of the ice. Not unlike the situation with teammate Brock Nelson, the only real question is if general manager Lou Lamoriello will willingly part with a valued member of his team, even if the Islanders seem destined for the draft lottery rather than a playoff race.\\nTraded from Edmonton to San Jose over the summer in a cap-clearing move, it’s hard to imagine the veteran right-shot defenseman finishing this campaign with the cellar-dwelling Sharks. Not only is he a pending unrestricted free agent, but he’s also shown himself capable of handling the rigors of playoff hockey during three runs with the Oilers. Most notably, he was an important part of the penalty kill that was a massive difference-maker for the Cup runners-up in the spring. While Ceci has his detractors, his blend of experience and defensive attributes should hold some appeal to teams looking for added depth before the playoffs.\\nThe Sabres certainly aren’t shopping the 23-year-old defenseman, but he may be the piece they have to put in play in order to make a significant shakeup. Byram is an elite skater who can log big minutes and should still have his best and most productive seasons ahead. He’s also due for a new contract after the season as a pending restricted free agent. The Sabres control his rights, but they’re a team with a lot of money and years already tied up in their blue line, so decisions are looming.\\nReliable right-shot centers who can fill a depth role always have currency come deadline time. Bjugstad has shown that before — getting traded in 2022 from Arizona to Edmonton in a deal that brought back a third-round pick and defenseman Michael Kesselring — and he’s trending toward being that kind of asset again for Utah HC. He’s a reliable play-driver who profiles as an ideal bottom-six utility man.\\nThe alarm bells started to sound when Hall was scratched for a game this season. He’s struggled to regain form after missing most of last season due to a knee injury, but NHL Edge data shows that one of his strongest attributes — his powerful skating stride — remains. Hall’s top speed of 22.46 miles per hour is well above league average. With the Blackhawks on a trajectory for another spin in the draft lottery and with Hall being a pending unrestricted free agent in the later stages of his career, the veteran winger likely will be on the move again.\\nWith Granlund producing at nearly a point per game across the past two seasons in San Jose, the biggest question for any potential suitor here is fit. As in: Where does Granlund fit on a deeper roster? He’s been the Sharks' top-line center, and they may still make a pitch to lock him up to an extension. That appears to be a 50/50 proposition right now. If he ends up on the trade market instead, Granlund brings extensive playoff experience and versatility. Not only is he a forward with a strong track record of power-play production, but he also kills penalties.\\nA veteran left-shot defenseman with two Stanley Cup championships on his resume, Dumoulin profiles as a nice depth addition for a contender. Big and mobile, he can be trusted to move the puck effectively while handling a steady workload. He’s not known for being overly physical, but he won’t be pushed around. The 33-year-old is on an expiring contract and should be an easy piece for the Ducks to ship out before the deadline.\\nA mountain of a man at 6-foot-6 and 232 pounds, McCarron may find himself in demand since he’s playing on an affordable cap hit for one more season. He’s a right shot who can kill penalties and win some draws. Even if he’s limited offensively, there’s value to be found in a fourth-liner who plays his style of game.\\nAnother giant depth forward at 6-foot-5 and 220 pounds, Brazeau traveled the long road to the NHL and has earned a raise on his league-minimum $775,000 contract. He’s already hit the 10-goal mark for the first time in his career this season. Brazeau is a hard-working player who doesn’t hesitate to finish his checks.\\nLindgren is poised to potentially walk as a free agent on July 1 and also has had a hand in some of the Rangers' defensive struggles this season. That’s not a great combination. A frequent partner of former Norris Trophy winner Adam Fox, Lindgren has still seen his team take on water during his five-on-five minutes. However, he’s still considered a high-character player who doesn’t shy away from physical play and is at an age where he likely hasn’t yet hit his ceiling.\\nA minute-munching, shot-blocking defenseman who has drawn trade interest in the past, Ferraro is a valuable commodity. Signed through the end of next season at a $3.25 million cap hit, the 26-year-old is a strong puck mover and penalty killer with a competitive streak to match.\\nRobertson has bit his lip since a summer trade request went unfulfilled by the Leafs, but the situation could still come to a head before the deadline. He has at least helped his trade value with some more productive outings since a brief string of scratches in December. However, in the big picture, Robertson hasn’t gained much traction under new head coach Craig Berube, and he may still get his desired fresh start once the Leafs begin looking at other acquisitions.\\nNyquist has found a nice home in Nashville and might prefer a new contract to getting dealt away as a rental. That will leave the Predators with a decision in a season in which they appear destined to finish well outside the playoffs. Nyquist is coming off a 75-point season at age 34 and is one of the best chips they have to play at the deadline. He is a talented playmaker who remains a strong skater and isn’t showing any obvious signs of slowing down.\\nWith the focus in Vancouver having shifted to finding a landing spot for J.T. Miller, it appears Pettersson is safe for the time being. Still, it’s notable that the Canucks engaged in discussions on him with other teams. An elite offensive play-driver in the prime of his career, Pettersson is in a tier of player that rarely gets traded in the NHL. But he’s also among the league’s highest-paid forwards, and his production has cratered since signing a $92.8 million, eight-year extension in March. Until the shoe drops on Miller, a Pettersson deal can’t be ruled out entirely.\\n(Top graphic: Demetrius Robinson / The Athletic, with photos of Seth Jones, J.T. Miller and Ryan O’Reilly by Jeff Vinnick, Michael Reaves and George Walker IV / Getty Images)\",\n",
              " 'Welcome to our 2024-25 NHL projections where you will find each team’s projected point total, probability of advancing to and through the playoffs, and chances of winning the Stanley Cup. The projections are based on 50,000 simulations of the remainder of the season which factors in each team’s projected strength, current health and strength of schedule. All projections are rounded to the nearest whole number. You can read more about the model at the bottom of the page. The projections will be updated daily.']"
            ]
          },
          "execution_count": 3,
          "metadata": {},
          "output_type": "execute_result"
        }
      ],
      "source": [
        "en_df = pd.read_json(\"nhl_articles_summer.jsonl\", lines=True)\n",
        "en_texts = en_df[\"text\"].tolist()\n",
        "en_texts[:2]"
      ]
    },
    {
      "cell_type": "markdown",
      "metadata": {
        "id": "8BtdV28BPz00"
      },
      "source": [
        "Предобработка."
      ]
    },
    {
      "cell_type": "code",
      "execution_count": null,
      "metadata": {
        "id": "iy5zV-kBPz00"
      },
      "outputs": [],
      "source": [
        "def preprocess_text(text):\n",
        "    text = text.replace(\"\\xa0\", \" \")              # неразрывные пробелы\n",
        "    text = text.replace(\"\\r\", \" \").replace(\"\\n\", \" \")  # переносы строк\n",
        "    text = re.sub(r\"https?://\\S+|www\\.\\S+\", \"\", text)  # ссылки\n",
        "    text = re.sub(r\"<.*?>\", \"\", text)             # HTML-теги, если есть\n",
        "    text = re.sub(r\"\\s+\", \" \", text)              # нормализуем пробелы\n",
        "    return text.strip()"
      ]
    },
    {
      "cell_type": "code",
      "execution_count": null,
      "metadata": {
        "id": "szrMPpn7Pz01"
      },
      "outputs": [],
      "source": [
        "ru_texts_clean = [preprocess_text(text) for text in ru_texts]\n",
        "en_texts_clean = [preprocess_text(text) for text in en_texts]"
      ]
    },
    {
      "cell_type": "code",
      "execution_count": null,
      "metadata": {
        "collapsed": true,
        "id": "F7APKXbNPz02",
        "outputId": "ece51766-e309-46d6-c557-c50e447ed617"
      },
      "outputs": [
        {
          "data": {
            "text/plain": [
              "['Потому что нюанс у этого подписания огромный. После смены руководства СКА не провел ни одного трансфера. Рынок с каждым днем становится все менее привлекательным, а клуб из Санкт-Петербурга в межсезонье потерял много лидеров - Бардаков, Грицюк, Никишин и Демидов. Однако понять отсутствие переходов можно, так как новым людям нужно время, чтобы разобраться в нюансах и хоккейных деталях. Да и не сказать, что команда из Питера ничего не делает. Ходили ведь слухи об интересе к Голдобину и Локтионову. Совсем недавно сообщалось, что команду с берегов Невы пополнит Ларионов-младший - сын нового главного тренера СКА. И касательно этого перехода есть большие сомнения. Потому что переход родственника - это всегда риск. Потому что в коллективе климат может стать хуже. Потому что так или иначе многие будут задаваться вопросами касательно игрового времени, стиля и набранных баллов. Если родственник главного тренера заходит в команду, то должен давать максимальный результат со старта, чтобы зарекомендовать себя. Источник: сын Ларионова подпишет со СКА контракт на один годНапомним, что на пресс-конференции, когда Ларионов возглавил клуб, главный тренер заявил, что переход его сына - это \"открытый вопрос\", но многие уже понимали, что шансы зайти в главную команду из Северной столицы у Ларионова-младшего достаточно высокие. \"У нас сегодня нехватка умных центров, поэтому это открытый вопрос. Знаю, что по нему поступило несколько предложений от других клубов. Он вышел на рынок, и важно понять, как мы будем двигаться дальше. Позиция центра очень важна. Будем рассматривать и его позицию в этой команде\", - сказал тогда главный тренер СКА. Вспоминается сразу же интервью другого тренера КХЛ - Бенуа Гру, который дошел в этом сезоне до финала Кубка Гагарина. Главный тренер клуба из Челябинска объяснил, что в его команде сын играть не будет, потому что в этой схеме есть много нюансов, которые могут повлиять на команду. \"Хотел ли я быть главным тренером в команде сына? Никогда. Может ли Бо Гру играть в КХЛ? Только не в моей команде. Я считаю, что это не способствовало бы созданию здоровых отношений между игроком и тренером. В одной из команд АХЛ, в которой я работал, мне сказали: \"Что думаешь, если мы получим твоего сына в ходе обмена?\" Я ответил: \"Это хорошие новости, но я пойду тренировать тогда другую команду\". Я уверен, что ничего бы не получилось и не заработало так, как надо”, - рассказывал Бенуа. Гру: хотел ли я быть главным тренером в команде своего сына? НикогдаЕсть ли большая необходимость в Питере в Ларионове-младшем? Сейчас будто бы и нет. Во-первых, позиции первого-второго центра команды он вряд ли потянет. СКА - топ-клуб, которому нужны именитые хоккеисты в центре первых двух троек. Потому что задача клуба из Санкт-Петербурга - Кубок Гагарина. Во-вторых, на позицию третьего центра вполне способен зайти в этом году юный и талантливый Короткий, который себя очень здорово проявил и за СКА, и в финале МХЛ. Как мы помним, в Питере сейчас будут делать упор на собственную вертикаль. В-третьих, стоит обратить внимание на количество проведенных матчей у Ларионова-младшего. В прошлом сезоне - 38 игр, в позапрошлом - 44, в сезоне-2022/2023 - 40 встреч. То есть, уже нужно держать в голове момент с травматичностью хоккеиста. В четвертой тройке Ларионов-младший играть не сможет, потому что у него другой функционал, а если брать первые две тройки, то СКА, скорее, нужны игроки по типу Глотова, Кузнецова и так далее. Если Ларионов-младший пополнит состав в роли игрока ротации-глубины на контракте КХЛ-ВХЛ, то вопросов будет меньше. Но самое главное и проблемное - это климат внутри коллектива. Когда играет родственник, то он должен моментально заявить о себе, дать максимальный результат, потому что иначе могут появиться большие вопросы. И когда они появляются у представителей СМИ - это одно, но другое - когда вопросы появляются у игроков к главному тренеру. Именно по этой причине тот же Гру довольно резко и предельно понятно высказался о том, смог ли его сын перейти в команду из Челябинска. \"Речь идет о профессиональном хоккее, о моём сыне и его карьере. И все, с кем мы это ни обсуждали, говорили, \"Бен, ты ему передохнуть-то не дашь. Всегда будешь более строгим с ним\". Но я не знаю, я никогда не пробовал даже тренировать сына. Знаю, что я думал бы на месте другого игрока, который тоже центральный нападающий. Я должен был сказать: \"Мой сын будет играть в большинстве вместо тебя\". Он, конечно же, скажет: \"Как иначе? Ты же его отец, понимаю\", - рассказывал Бенуа. СКА нужно держать в уме, что этот переход достаточно легкий на бумаге, но концептуально - очень сложный. Потому что есть более молодые и талантливые игроки, которые на этапе перестройки (у СКА сейчас как раз она проходит) должны быть в приоритете. В топ-6 в центре должны играть мастеровитые игроки, а в четвертой тройке - работяги. В плюс Ларионову-младшему можно отнести то, что он набирал более 20 очков (0,77, 0,45, 0,52 в среднем за матч) за свои неполноценные сезоны: 31 (7+24), 20 (8+12) и 20 (5+15). Но такой игрок будто бы сейчас - не главная цель для СКА, а вот в другой команде (\"Амур\", \"Северсталь\", \"Нефтехимик\") роль третьего центра могла бы Ларионову-младшему подойти. Посмотрим, окажется ли сын главного тренера СКА в итоге в Северной столице, но на данный момент сложностей будто бы больше, чем плюсов. Даже несмотря на то, что Ларионова-младшего мы считаем неплохим по меркам КХЛ хоккеистом.',\n",
              " 'Клубу нужно решить данную задачу. В межсезонье перед московским \"Динамо\" стояла одна большая задача - сохранить костяк игроков, который дошел до полуфинала Кубка Гагарина-2025. Не сказать, что бело-голубые на все 100% решили данную задачу, потому что потерь не избежать. Даже чемпионский \"Локомотив\" сохранил не всех игроков. Но в то же время нельзя сказать, что московское \"Динамо\" потеряло базу и фундамент. Это и про продления Пыленкова и Джиошвили, например. Унесут ли ребята новые контракты - другая тема, но это важные игроки в системе. Есть вопросы по поводу будущего Рашевского, который может и сменить команду, несмотря на то, что бело-голубые повторили предложение от \"Авангарда\". Но в то же время состав пополнил Классон, которого можно назвать хорошей заменой Сизову. \"Динамо\" Москва нужен был опытный домосед, который способен подстраховать молодых игроков. Не забываем, что в состав бело-голубых вернулись Паталаха и Шараканов, которые доказали, что могут быть полезными на уровне Континентальной хоккейной лиги. Уход Кудрявцева спокойно должен перекрыть Броссо, а если не продлится Слепышев, то сейчас активно в московское \"Динамо\" провожают Мамина, который, по информации источников, заработает 60 миллионов рублей. Источник раскрыл зарплату Мамина в \"Динамо\" МоскваОднако дальше должна пойти очень детальная селекция. По информации \"Спорт-Экспресс\", у бело-голубых сейчас есть всего 50 миллионов рублей свободных средств под потолком. Линия обороны переполнена, следовательно, возможно, что отпустят одного игрока защиты, мы делаем ставку, что клуб покинет Менелл - освободится еще 55 миллионов рублей. Плюс, возможно, перейдет в другую команду Рашевский - еще минус 55 миллионов рублей. В общей сумме будет свободно 160 миллионов рублей. Минус Мамин - 60 миллионов рублей. И в остатке 100 миллионов рублей. Непонятно, как на эти средства \"Динамо\" Москва будет укрепляться. Потому что нужно продлить Гусева, а Никита зарабатывал 70 миллионов рублей в прошлом чемпионате. Сейчас рынок такой, что вряд ли нападающий упадет в цене, но возьмем 60-70 миллионов рублей. Остается еще 30-40 миллионов рублей. Говорят, что в список усилений входит нападающий Андреофф. Но сейчас в его переход не особо верится. Во-первых, игроков подобной роли в команде хватает - Михеев, Пакетт и Уил. Во-вторых, в приоритете должен быть Комтуа, а Максим может и остаться (права находятся в распоряжении \"Динамо\" Москва), а может и продолжить карьеру в Северной Америке. Вот если Макс решит, что он уезжает, то тогда трансфер Андреоффа будет более актуальным. Но в любом случае, скорее всего, придется либо кого-то переподписывать, либо с кем-то расставаться. Источник: московское \"Динамо\" может подписать Андреоффа Сейчас \"Динамо\" Москва на такой промежуточной стадии. Понятно то, что костяк удалось сохранить, а это означает, что клуб продолжит быть конкурентным и будет решать большие задачи в следующем сезоне. С другой стороны, трансферов на вход и на выход еще ждать определенно стоит. Селекция далека от финальной стадии. Посмотрим, что придумает менеджмент.']"
            ]
          },
          "execution_count": 7,
          "metadata": {},
          "output_type": "execute_result"
        }
      ],
      "source": [
        "ru_texts_clean[:2]"
      ]
    },
    {
      "cell_type": "code",
      "execution_count": null,
      "metadata": {
        "collapsed": true,
        "id": "rRcTN_7HPz02",
        "outputId": "61e4a428-45d0-487a-d70f-56c0324eadfa"
      },
      "outputs": [
        {
          "data": {
            "text/plain": [
              "[\"Six weeks out from the March 7 trade deadline, the market is still taking shape. Activity has slowed after a flurry of moves earlier in the season, and it’s still unclear what direction a cluster of teams hovering around the Eastern Conference wild-card picture are going to go. Another wrinkle comes in the form of the upcoming 4 Nations Face-Off, which will see the NHL schedule halted for 12 days in February and may push the bulk of trades into a two-week period leading into the deadline. Advertisement Consider this the calm before the storm. As we take stock of what’s to come, it’s the return of the Big Board with nine new targets, including a few top-of-the-lineup stars. Players are listed by how closely they demand watching, based on their potential impact and the current amount of buzz around them. Note: Net Ratings and market values are via Dom Luszczyszyn’s model and are projected for the full season based on statistics through Jan. 22. Goals saved above expected (GSAx) are via Evolving-Hockey, also through Jan. 22. Contract info is via CapWages. Miller is in possession of a full no-movement clause in his contract and likely will only waive it for U.S.-based teams in the East. That’s why a return to the New York Rangers, who drafted him 15th in 2011, makes so much sense. Miller is an all-situations forward who produces top-of-the-lineup offense while being counted on to kill penalties and log tough defensive minutes. His versatility is a major asset, as is his competitive nature, which is something he needs to rein in from time to time. Miller would immediately become a top-two or top-three forward on basically any team in the league. Nelson is a big, sturdy forward who has scored at a 35-goal pace across the past three seasons. He can be slotted as a second-line center or slide into a wing spot on the top line. As a pending unrestricted free agent, he’s exactly the kind of difference-maker contending teams would be falling over themselves to get their hands on if — and it remains a massive if — the Islanders fade from the playoff picture and choose to move him before the deadline. The 2019 Conn Smythe Trophy winner has two more seasons remaining on his contract and has already indicated a desire to stay in Nashville. However, it might not ultimately be his call. The organization wants to do right by O’Reilly, but general manager Barry Trotz will be forced to make a decision if he gets a strong trade offer amid a disappointing season for the team. O’Reilly is an excellent two-way center who can be couned on to chip in offensively and has the ability to be a true difference-maker for a contender. As an added bonus, he’s a menace in the faceoff circle, too. What he lacks in size, he makes up in tenacity and feistiness. Gourde is a strong skater and two-way player who owns a couple of Stanley Cup rings from his time with Tampa Bay. His offensive numbers and ice time are down this season, but he’ll draw attention if Seattle fades from the playoff picture in the run-up to the trade deadline. One thing worth monitoring is Gourde’s health as he’s missed a couple of different stretches already this season. Montreal’s acquisition of Alexandre Carrier in December likely sealed Savard’s fate. At a minimum, it made the veteran defenseman on an expiring contract much more expendable. Savard should have suitors as a depth option and penalty killer, and it certainly doesn’t hurt that he carries the experience of a Stanley Cup win with Tampa Bay in 2021 after being acquired midway through that season. He’s also a right shot who routinely sacrifices his body to block shots, both of which are attributes good teams can always use more of. Rangy and reliable, there’s nothing flashy about Pettersson’s game. But he has proven in recent years that he can handle 20-plus minutes per night while helping drive play at even strength, and he should be able to slot in as a second-pairing defenseman on a competitive team. Penguins general manager Kyle Dubas has a big project on his hands, but Pettersson is his most attractive asset to peddle at this year’s deadline, and Dubas seems motivated to start turning over his roster. He is looking for young NHL players or prospects back in return, rather than draft picks. A Big Board mainstay, this may finally be the season Gibson finds his way back to a competitive team. He’s lost the No. 1 job in Anaheim to Lukáš Dostál and is inching ever closer to the end of a contract with two years remaining on it after this one. That’s been the biggest impediment to finding him a new home. While Gibson's numbers in recent seasons don’t jump off the page in a positive way, they should be viewed with the understanding that he’s played behind some horrific defensive teams. He’s also had a major bounce-back performance so far this season. On a trade market with very few goaltending options available, Gibson has the highest ceiling. You can add his name to the long list of underperforming Bruins, but it’s worth noting Frederic is only months removed from an 18-goal, 40-point breakout campaign. He’s a big man who skates well and can effectively be deployed as a checker. With senior leadership in Boston acknowledging publicly that the team is considering becoming a seller ahead of the deadline, Frederic is a hot commodity. Now into his ninth NHL season of averaging at least 23 minutes per game, this all-situations defender is delivering strong play-driving results for a Blue Jackets team that has been more competitive than many were expecting this season. Still, no one is losing sight of the big picture in Columbus. The team has started engaging the pending unrestricted free agent on extension talks but doesn't seem willing to break the bank. If someone steps up with an offer of a first-round pick for Provorov, the Blue Jackets will likely part with him. The Chicago Blackhawks aren’t believed to be shopping the veteran right-shot defenseman, but it hasn’t kept other teams from calling. Jones carries a sizeable cap hit for a lot of years, but he’s got a skillset that’s in short supply around the league. Jones is an all-around defender who can log major minutes and handle a shutdown role. He also holds a no-movement clause but may be enticed to waive it with Chicago still likely years away from completing its rebuild. The retooling Flyers are short on rental players to take to market in the lead-up to the deadline, but they could be compelled to part with the big, physical defenseman who has some term remaining. Ristolainen plays a rugged style best suited for third-pairing duty, and he’s taken meaningful steps forward over the past 18 months toward becoming a more reliable defender in his own zone. With a contract that stretches two seasons beyond this one, some salary retention might be needed to make a trade work. With Laughton signed for one season beyond this one, the Flyers are under no pressure to trade him amid a campaign in which he’s scoring at nearly a 20-goal pace. But if a contender is willing to part with a first-round pick, they might do it. Laughton would be a bottom-six upgrade for a lot of contending teams. He’s a glue guy who kills penalties and plays with an edge. A relentless high-motor player who is enjoying a career season in Chicago, Donato is starting to attract some attention on the trade market. As a pending unrestricted free agent, he profiles as an attractive deadline rental who can bring versatility and depth. Donato appears to have made some strides with his skating this year and has the hands to bury offensive chances when he gets them. On the younger side of Pittsburgh’s pending unrestricted free agents, O’Connor profiles as a bottom-six forward who plays a power game. Big and stong, he’s unafraid to finish a bodycheck or engage in a battle for the puck. While he shouldn’t be looked at to produce much offensively, O’Connor can kill penalties and make life difficult on the opposition at five-on-five. At least a couple of contending teams had identified Borgen as a solid deadline target and were left disappointed when the Rangers swooped in and got him in December. However, his stay on Broadway might be rather brief. Borgen is on an expiring contract, and this Rangers season doesn’t appear to be heading anywhere promising, so he may yet be flipped. A smart right-shot defenseman with good size and skating ability, Borgen has also historically been a strong shot suppressor on the penalty kill. A rough-and-tumble winger who boasts an impressive fight card, Olivier has caught the attention of at least a couple of teams currently eyeing potential depth forward options. The 27-year-old pending UFA has even managed to chip in more than his share of expected goals early this season. But what makes him most attractive is his size, strength and willingness to embrace an energy role. Olivier is built for playoff hockey and will have suitors if Columbus can't get him signed to an extension. All signs point to the pending unrestricted free agent winger getting dealt ahead of the deadline if the Kraken aren’t in the playoff chase. Tanev is known for playing a grindy game that wears on opponents, and he’s an excellent penalty killer who leads Seattle in short-handed ice time. He certainly doesn’t back down when faced with a contested piece of ice. As a bonus, he also comes with 46 games of playoff experience, too. Playing on an expiring contract, the depth center is having a career year at the perfect time. Evans appears poised to blow past previous career highs of 11 goals and 29 points. While the Canadiens like him, his surge in production may turn him into trade bait rather than someone they keep around with another contract. Evans isn’t overly big, but he’s a quick skater and effective penalty-killer. He’d be a quality fourth-line option for a contender. The veteran right-shot winger remains a serious scoring threat into his 15th NHL season. He hit 30 goals in 2023-24 and is on pace to comfortably cruise past 20 this season. As a pending unrestricted free agent, Palmieri is an attractive rental option, especially with his willingness to battle his way to the hard areas of the ice. Not unlike the situation with teammate Brock Nelson, the only real question is if general manager Lou Lamoriello will willingly part with a valued member of his team, even if the Islanders seem destined for the draft lottery rather than a playoff race. Traded from Edmonton to San Jose over the summer in a cap-clearing move, it’s hard to imagine the veteran right-shot defenseman finishing this campaign with the cellar-dwelling Sharks. Not only is he a pending unrestricted free agent, but he’s also shown himself capable of handling the rigors of playoff hockey during three runs with the Oilers. Most notably, he was an important part of the penalty kill that was a massive difference-maker for the Cup runners-up in the spring. While Ceci has his detractors, his blend of experience and defensive attributes should hold some appeal to teams looking for added depth before the playoffs. The Sabres certainly aren’t shopping the 23-year-old defenseman, but he may be the piece they have to put in play in order to make a significant shakeup. Byram is an elite skater who can log big minutes and should still have his best and most productive seasons ahead. He’s also due for a new contract after the season as a pending restricted free agent. The Sabres control his rights, but they’re a team with a lot of money and years already tied up in their blue line, so decisions are looming. Reliable right-shot centers who can fill a depth role always have currency come deadline time. Bjugstad has shown that before — getting traded in 2022 from Arizona to Edmonton in a deal that brought back a third-round pick and defenseman Michael Kesselring — and he’s trending toward being that kind of asset again for Utah HC. He’s a reliable play-driver who profiles as an ideal bottom-six utility man. The alarm bells started to sound when Hall was scratched for a game this season. He’s struggled to regain form after missing most of last season due to a knee injury, but NHL Edge data shows that one of his strongest attributes — his powerful skating stride — remains. Hall’s top speed of 22.46 miles per hour is well above league average. With the Blackhawks on a trajectory for another spin in the draft lottery and with Hall being a pending unrestricted free agent in the later stages of his career, the veteran winger likely will be on the move again. With Granlund producing at nearly a point per game across the past two seasons in San Jose, the biggest question for any potential suitor here is fit. As in: Where does Granlund fit on a deeper roster? He’s been the Sharks' top-line center, and they may still make a pitch to lock him up to an extension. That appears to be a 50/50 proposition right now. If he ends up on the trade market instead, Granlund brings extensive playoff experience and versatility. Not only is he a forward with a strong track record of power-play production, but he also kills penalties. A veteran left-shot defenseman with two Stanley Cup championships on his resume, Dumoulin profiles as a nice depth addition for a contender. Big and mobile, he can be trusted to move the puck effectively while handling a steady workload. He’s not known for being overly physical, but he won’t be pushed around. The 33-year-old is on an expiring contract and should be an easy piece for the Ducks to ship out before the deadline. A mountain of a man at 6-foot-6 and 232 pounds, McCarron may find himself in demand since he’s playing on an affordable cap hit for one more season. He’s a right shot who can kill penalties and win some draws. Even if he’s limited offensively, there’s value to be found in a fourth-liner who plays his style of game. Another giant depth forward at 6-foot-5 and 220 pounds, Brazeau traveled the long road to the NHL and has earned a raise on his league-minimum $775,000 contract. He’s already hit the 10-goal mark for the first time in his career this season. Brazeau is a hard-working player who doesn’t hesitate to finish his checks. Lindgren is poised to potentially walk as a free agent on July 1 and also has had a hand in some of the Rangers' defensive struggles this season. That’s not a great combination. A frequent partner of former Norris Trophy winner Adam Fox, Lindgren has still seen his team take on water during his five-on-five minutes. However, he’s still considered a high-character player who doesn’t shy away from physical play and is at an age where he likely hasn’t yet hit his ceiling. A minute-munching, shot-blocking defenseman who has drawn trade interest in the past, Ferraro is a valuable commodity. Signed through the end of next season at a $3.25 million cap hit, the 26-year-old is a strong puck mover and penalty killer with a competitive streak to match. Robertson has bit his lip since a summer trade request went unfulfilled by the Leafs, but the situation could still come to a head before the deadline. He has at least helped his trade value with some more productive outings since a brief string of scratches in December. However, in the big picture, Robertson hasn’t gained much traction under new head coach Craig Berube, and he may still get his desired fresh start once the Leafs begin looking at other acquisitions. Nyquist has found a nice home in Nashville and might prefer a new contract to getting dealt away as a rental. That will leave the Predators with a decision in a season in which they appear destined to finish well outside the playoffs. Nyquist is coming off a 75-point season at age 34 and is one of the best chips they have to play at the deadline. He is a talented playmaker who remains a strong skater and isn’t showing any obvious signs of slowing down. With the focus in Vancouver having shifted to finding a landing spot for J.T. Miller, it appears Pettersson is safe for the time being. Still, it’s notable that the Canucks engaged in discussions on him with other teams. An elite offensive play-driver in the prime of his career, Pettersson is in a tier of player that rarely gets traded in the NHL. But he’s also among the league’s highest-paid forwards, and his production has cratered since signing a $92.8 million, eight-year extension in March. Until the shoe drops on Miller, a Pettersson deal can’t be ruled out entirely. (Top graphic: Demetrius Robinson / The Athletic, with photos of Seth Jones, J.T. Miller and Ryan O’Reilly by Jeff Vinnick, Michael Reaves and George Walker IV / Getty Images)\",\n",
              " 'Welcome to our 2024-25 NHL projections where you will find each team’s projected point total, probability of advancing to and through the playoffs, and chances of winning the Stanley Cup. The projections are based on 50,000 simulations of the remainder of the season which factors in each team’s projected strength, current health and strength of schedule. All projections are rounded to the nearest whole number. You can read more about the model at the bottom of the page. The projections will be updated daily.']"
            ]
          },
          "execution_count": 8,
          "metadata": {},
          "output_type": "execute_result"
        }
      ],
      "source": [
        "en_texts_clean[:2]"
      ]
    },
    {
      "cell_type": "markdown",
      "metadata": {
        "id": "QDxFIdmsPz03"
      },
      "source": [
        "Модель для английских текстов."
      ]
    },
    {
      "cell_type": "code",
      "execution_count": null,
      "metadata": {
        "id": "fKbbeo7VPz03"
      },
      "outputs": [],
      "source": [
        "from tqdm import tqdm"
      ]
    },
    {
      "cell_type": "code",
      "execution_count": null,
      "metadata": {
        "id": "2YwWI2ZePz04"
      },
      "outputs": [],
      "source": [
        "from transformers import AutoTokenizer, AutoModelForSequenceClassification\n",
        "import torch"
      ]
    },
    {
      "cell_type": "code",
      "execution_count": null,
      "metadata": {
        "id": "GDbI5xsUPz04"
      },
      "outputs": [],
      "source": [
        "import torch.nn.functional as F"
      ]
    },
    {
      "cell_type": "code",
      "execution_count": null,
      "metadata": {
        "id": "L7uulaEuPz06"
      },
      "outputs": [],
      "source": [
        "eng_model_name = \"cardiffnlp/twitter-roberta-base-sentiment\"\n",
        "eng_tokenizer = AutoTokenizer.from_pretrained(eng_model_name)\n",
        "eng_model = AutoModelForSequenceClassification.from_pretrained(eng_model_name)"
      ]
    },
    {
      "cell_type": "markdown",
      "metadata": {},
      "source": [
        "Модель может обрабатывать тексты размером не более 512 токенов. Разделим статьи на чанки размером 512 токенов и меньше."
      ]
    },
    {
      "cell_type": "code",
      "execution_count": null,
      "metadata": {
        "id": "EGXEhd16Pz07"
      },
      "outputs": [],
      "source": [
        "def split_into_chunks(text, tokenizer, max_tokens=512):\n",
        "    tokens = tokenizer.tokenize(text)\n",
        "    chunks = [tokens[i:i+max_tokens] for i in range(0, len(tokens), max_tokens)]\n",
        "    return [tokenizer.convert_tokens_to_string(chunk) for chunk in chunks]\n"
      ]
    },
    {
      "cell_type": "code",
      "execution_count": null,
      "metadata": {
        "id": "aEE4VtfBPz07"
      },
      "outputs": [],
      "source": [
        "import numpy as np"
      ]
    },
    {
      "cell_type": "code",
      "execution_count": null,
      "metadata": {
        "id": "sb7W7B2sPz07"
      },
      "outputs": [],
      "source": [
        "chunks_data = {}  # глобальный словарь\n",
        "\n",
        "def predict_sentiment(text, model, tokenizer, labels, text_id=None):\n",
        "    tokens = tokenizer.tokenize(text)\n",
        "    chunks = [tokenizer.convert_tokens_to_string(tokens[i:i+512]) for i in range(0, len(tokens), 512)]\n",
        "\n",
        "    probs = []\n",
        "    chunk_labels = []\n",
        "\n",
        "    for chunk in chunks:\n",
        "        inputs = tokenizer(chunk, return_tensors=\"pt\", truncation=True, max_length=512)\n",
        "        with torch.no_grad():\n",
        "            outputs = model(**inputs)\n",
        "        prob = F.softmax(outputs.logits, dim=1).squeeze().numpy()\n",
        "        probs.append(prob)\n",
        "        chunk_labels.append(labels[np.argmax(prob)])\n",
        "\n",
        "    avg = np.mean(probs, axis=0)\n",
        "    overall_label = labels[np.argmax(avg)]\n",
        "\n",
        "    if text_id is not None:\n",
        "        chunks_data[text_id] = {\n",
        "            \"chunks\": chunks,  # уже восстановленные строки\n",
        "            \"chunk_labels\": chunk_labels,\n",
        "            \"chunk_probs\": probs\n",
        "        }\n",
        "\n",
        "    return overall_label\n",
        "\n"
      ]
    },
    {
      "cell_type": "code",
      "execution_count": null,
      "metadata": {
        "id": "5Bp_eP17Pz08"
      },
      "outputs": [],
      "source": [
        "labels_eng = [\"negative\", \"neutral\", \"positive\"]"
      ]
    },
    {
      "cell_type": "markdown",
      "metadata": {},
      "source": [
        "Сохраним в список итоговую метку для каждой статьи(метка усреднена по чанкам)."
      ]
    },
    {
      "cell_type": "code",
      "execution_count": null,
      "metadata": {
        "id": "I5Yq6TZfPz1A",
        "outputId": "ac4688a3-f3bd-4269-ebf9-10a48b243af8"
      },
      "outputs": [
        {
          "name": "stderr",
          "output_type": "stream",
          "text": [
            "  0%|          | 0/1000 [00:00<?, ?it/s]"
          ]
        },
        {
          "name": "stderr",
          "output_type": "stream",
          "text": [
            "100%|██████████| 1000/1000 [1:28:24<00:00,  5.30s/it]  \n"
          ]
        }
      ],
      "source": [
        "en_sentiments = []  # сюда сохраняем итоговую метку\n",
        "\n",
        "for idx, text in tqdm(enumerate(en_texts_clean), total=len(en_texts_clean)):\n",
        "    label = predict_sentiment(text, eng_model, eng_tokenizer, labels_eng, text_id=idx)\n",
        "    en_sentiments.append(label)"
      ]
    },
    {
      "cell_type": "code",
      "execution_count": null,
      "metadata": {
        "id": "z5gVIrnSPz1B"
      },
      "outputs": [],
      "source": [
        "en_df[\"sentiment\"] = en_sentiments"
      ]
    },
    {
      "cell_type": "code",
      "execution_count": null,
      "metadata": {
        "id": "e9HZm_96Pz1C",
        "outputId": "cf0e6311-c742-4f0c-919c-08f59f20597e"
      },
      "outputs": [
        {
          "name": "stdout",
          "output_type": "stream",
          "text": [
            "{'chunks': ['Six weeks out from the March 7 trade deadline, the market is still taking shape. Activity has slowed after a flurry of moves earlier in the season, and it’s still unclear what direction a cluster of teams hovering around the Eastern Conference wild-card picture are going to go. Another wrinkle comes in the form of the upcoming 4 Nations Face-Off, which will see the NHL schedule halted for 12 days in February and may push the bulk of trades into a two-week period leading into the deadline. Advertisement Consider this the calm before the storm. As we take stock of what’s to come, it’s the return of the Big Board with nine new targets, including a few top-of-the-lineup stars. Players are listed by how closely they demand watching, based on their potential impact and the current amount of buzz around them. Note: Net Ratings and market values are via Dom Luszczyszyn’s model and are projected for the full season based on statistics through Jan. 22. Goals saved above expected (GSAx) are via Evolving-Hockey, also through Jan. 22. Contract info is via CapWages. Miller is in possession of a full no-movement clause in his contract and likely will only waive it for U.S.-based teams in the East. That’s why a return to the New York Rangers, who drafted him 15th in 2011, makes so much sense. Miller is an all-situations forward who produces top-of-the-lineup offense while being counted on to kill penalties and log tough defensive minutes. His versatility is a major asset, as is his competitive nature, which is something he needs to rein in from time to time. Miller would immediately become a top-two or top-three forward on basically any team in the league. Nelson is a big, sturdy forward who has scored at a 35-goal pace across the past three seasons. He can be slotted as a second-line center or slide into a wing spot on the top line. As a pending unrestricted free agent, he’s exactly the kind of difference-maker contending teams would be falling over themselves to get their hands on if — and it remains a massive if — the Islanders fade from the playoff picture and choose to move him before the deadline. The 2019 Conn Smythe Trophy winner has two more seasons remaining on his contract and has already indicated a desire to stay in Nashville. However, it might not ultimately', ' be his call. The organization wants to do right by O’Reilly, but general manager Barry Trotz will be forced to make a decision if he gets a strong trade offer amid a disappointing season for the team. O’Reilly is an excellent two-way center who can be couned on to chip in offensively and has the ability to be a true difference-maker for a contender. As an added bonus, he’s a menace in the faceoff circle, too. What he lacks in size, he makes up in tenacity and feistiness. Gourde is a strong skater and two-way player who owns a couple of Stanley Cup rings from his time with Tampa Bay. His offensive numbers and ice time are down this season, but he’ll draw attention if Seattle fades from the playoff picture in the run-up to the trade deadline. One thing worth monitoring is Gourde’s health as he’s missed a couple of different stretches already this season. Montreal’s acquisition of Alexandre Carrier in December likely sealed Savard’s fate. At a minimum, it made the veteran defenseman on an expiring contract much more expendable. Savard should have suitors as a depth option and penalty killer, and it certainly doesn’t hurt that he carries the experience of a Stanley Cup win with Tampa Bay in 2021 after being acquired midway through that season. He’s also a right shot who routinely sacrifices his body to block shots, both of which are attributes good teams can always use more of. Rangy and reliable, there’s nothing flashy about Pettersson’s game. But he has proven in recent years that he can handle 20-plus minutes per night while helping drive play at even strength, and he should be able to slot in as a second-pairing defenseman on a competitive team. Penguins general manager Kyle Dubas has a big project on his hands, but Pettersson is his most attractive asset to peddle at this year’s deadline, and Dubas seems motivated to start turning over his roster. He is looking for young NHL players or prospects back in return, rather than draft picks. A Big Board mainstay, this may finally be the season Gibson finds his way back to a competitive team. He’s lost the No. 1 job in Anaheim to Lukáš Dostál and is inching ever closer to the end of a contract with two years remaining on it after this', \" one. That’s been the biggest impediment to finding him a new home. While Gibson's numbers in recent seasons don’t jump off the page in a positive way, they should be viewed with the understanding that he’s played behind some horrific defensive teams. He’s also had a major bounce-back performance so far this season. On a trade market with very few goaltending options available, Gibson has the highest ceiling. You can add his name to the long list of underperforming Bruins, but it’s worth noting Frederic is only months removed from an 18-goal, 40-point breakout campaign. He’s a big man who skates well and can effectively be deployed as a checker. With senior leadership in Boston acknowledging publicly that the team is considering becoming a seller ahead of the deadline, Frederic is a hot commodity. Now into his ninth NHL season of averaging at least 23 minutes per game, this all-situations defender is delivering strong play-driving results for a Blue Jackets team that has been more competitive than many were expecting this season. Still, no one is losing sight of the big picture in Columbus. The team has started engaging the pending unrestricted free agent on extension talks but doesn't seem willing to break the bank. If someone steps up with an offer of a first-round pick for Provorov, the Blue Jackets will likely part with him. The Chicago Blackhawks aren’t believed to be shopping the veteran right-shot defenseman, but it hasn’t kept other teams from calling. Jones carries a sizeable cap hit for a lot of years, but he’s got a skillset that’s in short supply around the league. Jones is an all-around defender who can log major minutes and handle a shutdown role. He also holds a no-movement clause but may be enticed to waive it with Chicago still likely years away from completing its rebuild. The retooling Flyers are short on rental players to take to market in the lead-up to the deadline, but they could be compelled to part with the big, physical defenseman who has some term remaining. Ristolainen plays a rugged style best suited for third-pairing duty, and he’s taken meaningful steps forward over the past 18 months toward becoming a more reliable defender in his own zone. With a contract that stretches two seasons beyond this one, some salary retention might be needed to make a trade work. With Laughton signed for one season beyond\", \" this one, the Flyers are under no pressure to trade him amid a campaign in which he’s scoring at nearly a 20-goal pace. But if a contender is willing to part with a first-round pick, they might do it. Laughton would be a bottom-six upgrade for a lot of contending teams. He’s a glue guy who kills penalties and plays with an edge. A relentless high-motor player who is enjoying a career season in Chicago, Donato is starting to attract some attention on the trade market. As a pending unrestricted free agent, he profiles as an attractive deadline rental who can bring versatility and depth. Donato appears to have made some strides with his skating this year and has the hands to bury offensive chances when he gets them. On the younger side of Pittsburgh’s pending unrestricted free agents, O’Connor profiles as a bottom-six forward who plays a power game. Big and stong, he’s unafraid to finish a bodycheck or engage in a battle for the puck. While he shouldn’t be looked at to produce much offensively, O’Connor can kill penalties and make life difficult on the opposition at five-on-five. At least a couple of contending teams had identified Borgen as a solid deadline target and were left disappointed when the Rangers swooped in and got him in December. However, his stay on Broadway might be rather brief. Borgen is on an expiring contract, and this Rangers season doesn’t appear to be heading anywhere promising, so he may yet be flipped. A smart right-shot defenseman with good size and skating ability, Borgen has also historically been a strong shot suppressor on the penalty kill. A rough-and-tumble winger who boasts an impressive fight card, Olivier has caught the attention of at least a couple of teams currently eyeing potential depth forward options. The 27-year-old pending UFA has even managed to chip in more than his share of expected goals early this season. But what makes him most attractive is his size, strength and willingness to embrace an energy role. Olivier is built for playoff hockey and will have suitors if Columbus can't get him signed to an extension. All signs point to the pending unrestricted free agent winger getting dealt ahead of the deadline if the Kraken aren’t in the playoff chase. Tanev is known for playing a grindy game that wears on opponents, and he’s an excellent penalty killer who leads Seattle\", ' in short-handed ice time. He certainly doesn’t back down when faced with a contested piece of ice. As a bonus, he also comes with 46 games of playoff experience, too. Playing on an expiring contract, the depth center is having a career year at the perfect time. Evans appears poised to blow past previous career highs of 11 goals and 29 points. While the Canadiens like him, his surge in production may turn him into trade bait rather than someone they keep around with another contract. Evans isn’t overly big, but he’s a quick skater and effective penalty-killer. He’d be a quality fourth-line option for a contender. The veteran right-shot winger remains a serious scoring threat into his 15th NHL season. He hit 30 goals in 2023-24 and is on pace to comfortably cruise past 20 this season. As a pending unrestricted free agent, Palmieri is an attractive rental option, especially with his willingness to battle his way to the hard areas of the ice. Not unlike the situation with teammate Brock Nelson, the only real question is if general manager Lou Lamoriello will willingly part with a valued member of his team, even if the Islanders seem destined for the draft lottery rather than a playoff race. Traded from Edmonton to San Jose over the summer in a cap-clearing move, it’s hard to imagine the veteran right-shot defenseman finishing this campaign with the cellar-dwelling Sharks. Not only is he a pending unrestricted free agent, but he’s also shown himself capable of handling the rigors of playoff hockey during three runs with the Oilers. Most notably, he was an important part of the penalty kill that was a massive difference-maker for the Cup runners-up in the spring. While Ceci has his detractors, his blend of experience and defensive attributes should hold some appeal to teams looking for added depth before the playoffs. The Sabres certainly aren’t shopping the 23-year-old defenseman, but he may be the piece they have to put in play in order to make a significant shakeup. Byram is an elite skater who can log big minutes and should still have his best and most productive seasons ahead. He’s also due for a new contract after the season as a pending restricted free agent. The Sabres control his rights, but they’re a team with a lot of money and years already tied up in their blue line, so decisions are looming. Reliable right-shot centers', \" who can fill a depth role always have currency come deadline time. Bjugstad has shown that before — getting traded in 2022 from Arizona to Edmonton in a deal that brought back a third-round pick and defenseman Michael Kesselring — and he’s trending toward being that kind of asset again for Utah HC. He’s a reliable play-driver who profiles as an ideal bottom-six utility man. The alarm bells started to sound when Hall was scratched for a game this season. He’s struggled to regain form after missing most of last season due to a knee injury, but NHL Edge data shows that one of his strongest attributes — his powerful skating stride — remains. Hall’s top speed of 22.46 miles per hour is well above league average. With the Blackhawks on a trajectory for another spin in the draft lottery and with Hall being a pending unrestricted free agent in the later stages of his career, the veteran winger likely will be on the move again. With Granlund producing at nearly a point per game across the past two seasons in San Jose, the biggest question for any potential suitor here is fit. As in: Where does Granlund fit on a deeper roster? He’s been the Sharks' top-line center, and they may still make a pitch to lock him up to an extension. That appears to be a 50/50 proposition right now. If he ends up on the trade market instead, Granlund brings extensive playoff experience and versatility. Not only is he a forward with a strong track record of power-play production, but he also kills penalties. A veteran left-shot defenseman with two Stanley Cup championships on his resume, Dumoulin profiles as a nice depth addition for a contender. Big and mobile, he can be trusted to move the puck effectively while handling a steady workload. He’s not known for being overly physical, but he won’t be pushed around. The 33-year-old is on an expiring contract and should be an easy piece for the Ducks to ship out before the deadline. A mountain of a man at 6-foot-6 and 232 pounds, McCarron may find himself in demand since he’s playing on an affordable cap hit for one more season. He’s a right shot who can kill penalties and win some draws. Even if he’s limited offensively, there’s value to be found in a fourth-liner who plays his style of game. Another giant depth forward at 6-\", \"foot-5 and 220 pounds, Brazeau traveled the long road to the NHL and has earned a raise on his league-minimum $775,000 contract. He’s already hit the 10-goal mark for the first time in his career this season. Brazeau is a hard-working player who doesn’t hesitate to finish his checks. Lindgren is poised to potentially walk as a free agent on July 1 and also has had a hand in some of the Rangers' defensive struggles this season. That’s not a great combination. A frequent partner of former Norris Trophy winner Adam Fox, Lindgren has still seen his team take on water during his five-on-five minutes. However, he’s still considered a high-character player who doesn’t shy away from physical play and is at an age where he likely hasn’t yet hit his ceiling. A minute-munching, shot-blocking defenseman who has drawn trade interest in the past, Ferraro is a valuable commodity. Signed through the end of next season at a $3.25 million cap hit, the 26-year-old is a strong puck mover and penalty killer with a competitive streak to match. Robertson has bit his lip since a summer trade request went unfulfilled by the Leafs, but the situation could still come to a head before the deadline. He has at least helped his trade value with some more productive outings since a brief string of scratches in December. However, in the big picture, Robertson hasn’t gained much traction under new head coach Craig Berube, and he may still get his desired fresh start once the Leafs begin looking at other acquisitions. Nyquist has found a nice home in Nashville and might prefer a new contract to getting dealt away as a rental. That will leave the Predators with a decision in a season in which they appear destined to finish well outside the playoffs. Nyquist is coming off a 75-point season at age 34 and is one of the best chips they have to play at the deadline. He is a talented playmaker who remains a strong skater and isn’t showing any obvious signs of slowing down. With the focus in Vancouver having shifted to finding a landing spot for J.T. Miller, it appears Pettersson is safe for the time being. Still, it’s notable that the Canucks engaged in discussions on him with other teams. An elite offensive play-driver in the prime of his career, Pettersson is in a\", ' tier of player that rarely gets traded in the NHL. But he’s also among the league’s highest-paid forwards, and his production has cratered since signing a $92.8 million, eight-year extension in March. Until the shoe drops on Miller, a Pettersson deal can’t be ruled out entirely. (Top graphic: Demetrius Robinson / The Athletic, with photos of Seth Jones, J.T. Miller and Ryan O’Reilly by Jeff Vinnick, Michael Reaves and George Walker IV / Getty Images)'], 'chunk_labels': ['neutral', 'neutral', 'neutral', 'positive', 'neutral', 'neutral', 'neutral', 'neutral'], 'chunk_probs': [array([0.05848461, 0.76632214, 0.1751932 ], dtype=float32), array([0.05562511, 0.4995303 , 0.44484457], dtype=float32), array([0.07802311, 0.60357344, 0.31840342], dtype=float32), array([0.04635289, 0.4691959 , 0.4844512 ], dtype=float32), array([0.04099452, 0.5178411 , 0.44116446], dtype=float32), array([0.04105988, 0.58146834, 0.37747183], dtype=float32), array([0.03884744, 0.5611538 , 0.39999872], dtype=float32), array([0.10496382, 0.68864584, 0.20639029], dtype=float32)]}\n"
          ]
        }
      ],
      "source": [
        "print(chunks_data[0])"
      ]
    },
    {
      "cell_type": "code",
      "execution_count": null,
      "metadata": {
        "id": "b4uuelF4Pz1C"
      },
      "outputs": [],
      "source": [
        "en_df.to_csv('en_sent_new.csv', encoding='utf-8')"
      ]
    },
    {
      "cell_type": "markdown",
      "metadata": {},
      "source": [
        "Сделаем из словаря с информацией о чанках датафрейм для дальнейшего анализа"
      ]
    },
    {
      "cell_type": "code",
      "execution_count": null,
      "metadata": {
        "id": "5eNUvyyoPz1D"
      },
      "outputs": [],
      "source": [
        "def build_chunks_df(chunks_data):\n",
        "\n",
        "    chunk_rows = []\n",
        "\n",
        "    for text_id, data in chunks_data.items():\n",
        "        chunks = data.get(\"chunks\", [])\n",
        "        labels = data.get(\"chunk_labels\", [])\n",
        "        probs = data.get(\"chunk_probs\", [])\n",
        "\n",
        "        # Проверяем, что всё одинаковой длины\n",
        "        if len(chunks) == len(labels) == len(probs):\n",
        "            for i in range(len(chunks)):\n",
        "                row = {\n",
        "                    \"text_id\": text_id,\n",
        "                    \"chunk_text\": chunks[i],\n",
        "                    \"chunk_label\": labels[i],\n",
        "                    \"chunk_probs\": probs[i].tolist()\n",
        "                }\n",
        "                chunk_rows.append(row)\n",
        "\n",
        "    return pd.DataFrame(chunk_rows)\n"
      ]
    },
    {
      "cell_type": "code",
      "execution_count": null,
      "metadata": {
        "id": "EQU6v507Pz1D"
      },
      "outputs": [],
      "source": [
        "chunks_df = build_chunks_df(chunks_data)\n",
        "chunks_df.to_csv('chunks_df.csv', encoding='utf-8')"
      ]
    },
    {
      "cell_type": "code",
      "execution_count": null,
      "metadata": {
        "id": "_bIYpITiPz1D",
        "outputId": "05b11e45-88d3-4db9-970d-1a66913de054"
      },
      "outputs": [
        {
          "name": "stdout",
          "output_type": "stream",
          "text": [
            "Английский корпус:\n",
            " sentiment\n",
            "neutral     718\n",
            "positive    253\n",
            "negative     29\n",
            "Name: count, dtype: int64\n"
          ]
        }
      ],
      "source": [
        "print(\"Английский корпус:\\n\", en_df[\"sentiment\"].value_counts())"
      ]
    },
    {
      "cell_type": "markdown",
      "metadata": {
        "id": "uKtKFZaAPz1E"
      },
      "source": [
        "Модель для русских текстов."
      ]
    },
    {
      "cell_type": "code",
      "execution_count": null,
      "metadata": {
        "id": "390u4HGKPz1E"
      },
      "outputs": [],
      "source": [
        "ru_model_path=r'C:\\Users\\Алия\\Desktop\\учеба\\проект 2\\модель'\n",
        "ru_tokenizer = AutoTokenizer.from_pretrained(ru_model_path)\n",
        "ru_model = AutoModelForSequenceClassification.from_pretrained(ru_model_path)\n"
      ]
    },
    {
      "cell_type": "code",
      "execution_count": null,
      "metadata": {
        "id": "rSygVXDiPz1E"
      },
      "outputs": [],
      "source": [
        "labels_ru = [\"negative\", \"neutral\", \"positive\"]"
      ]
    },
    {
      "cell_type": "code",
      "execution_count": null,
      "metadata": {
        "id": "shq01jGWPz1E",
        "outputId": "f546013c-f05d-4992-e59d-98c1e806531a"
      },
      "outputs": [
        {
          "name": "stderr",
          "output_type": "stream",
          "text": [
            "100%|██████████| 1000/1000 [1:39:38<00:00,  5.98s/it]     \n"
          ]
        }
      ],
      "source": [
        "ru_sentiments = []  # сюда сохраняем итоговую метку \n",
        "\n",
        "for idx, text in tqdm(enumerate(ru_texts_clean), total=len(ru_texts_clean)):\n",
        "    label = predict_sentiment(text, ru_model, ru_tokenizer, labels_ru, text_id=idx)\n",
        "    ru_sentiments.append(label)"
      ]
    },
    {
      "cell_type": "code",
      "execution_count": null,
      "metadata": {
        "id": "Ki5mGGOkPz1F"
      },
      "outputs": [],
      "source": [
        "chunks_df_ru = build_chunks_df(chunks_data)"
      ]
    },
    {
      "cell_type": "code",
      "execution_count": null,
      "metadata": {
        "id": "EJ-klVkAPz1F"
      },
      "outputs": [],
      "source": [
        "chunks_df_ru.to_csv('chunks_df_ru.csv', encoding='utf-8')"
      ]
    },
    {
      "cell_type": "code",
      "execution_count": null,
      "metadata": {
        "collapsed": true,
        "id": "eOlW8WM6Pz1G",
        "outputId": "0fdd0042-48ba-4033-ac78-9b8199b6e988"
      },
      "outputs": [
        {
          "name": "stdout",
          "output_type": "stream",
          "text": [
            "      text_id                                         chunk_text chunk_label  \\\n",
            "0           0  Потому что нюанс у этого подписания огромный. ...     neutral   \n",
            "1           0  в Ларионове - младшем? Сейчас будто бы и нет. ...    negative   \n",
            "2           0  можно отнести то, что он набирал более 20 очко...    negative   \n",
            "3           1  Клубу нужно решить данную задачу. В межсезонье...    positive   \n",
            "4           1  а может и продолжить карьеру в Северной Америк...    negative   \n",
            "...       ...                                                ...         ...   \n",
            "2319      998  \" Салавата Юлаева \". \" Знаю, что у них 60 - ки...    positive   \n",
            "2320      998  назвать нельзя. Две команды сражались. Мне каж...    positive   \n",
            "2321      999  \" Салават Юлаев \" победил \" Ак Барс \", \" Тракт...    positive   \n",
            "2322      999  Ярославле. К \" Локомотиву \" приехал СКА, котор...    positive   \n",
            "2323      999  шайб и пропустила три. Негативно, что две из т...    negative   \n",
            "\n",
            "                                            chunk_probs  \n",
            "0     [0.04276458919048309, 0.9460349082946777, 0.01...  \n",
            "1     [0.7984721064567566, 0.16520681977272034, 0.03...  \n",
            "2     [0.8161159753799438, 0.15214072167873383, 0.03...  \n",
            "3     [0.18068987131118774, 0.06785886734724045, 0.7...  \n",
            "4     [0.8185413479804993, 0.14939762651920319, 0.03...  \n",
            "...                                                 ...  \n",
            "2319  [0.18069609999656677, 0.06785757839679718, 0.7...  \n",
            "2320  [0.1806299090385437, 0.06781914085149765, 0.75...  \n",
            "2321  [0.18065060675144196, 0.0678323283791542, 0.75...  \n",
            "2322  [0.18070322275161743, 0.06785368919372559, 0.7...  \n",
            "2323  [0.567062497138977, 0.23051783442497253, 0.202...  \n",
            "\n",
            "[2324 rows x 4 columns]\n"
          ]
        }
      ],
      "source": [
        "print (chunks_df_ru)"
      ]
    },
    {
      "cell_type": "code",
      "execution_count": null,
      "metadata": {
        "id": "gZoN4skvPz1H"
      },
      "outputs": [],
      "source": [
        "ru_df[\"sentiment\"] = ru_sentiments"
      ]
    },
    {
      "cell_type": "code",
      "execution_count": null,
      "metadata": {
        "id": "Ak5exK-ZPz1H"
      },
      "outputs": [],
      "source": [
        "ru_df.to_csv('ru_sent.csv', encoding='utf-8')"
      ]
    },
    {
      "cell_type": "code",
      "execution_count": null,
      "metadata": {
        "id": "8hd86Y9YPz1H",
        "outputId": "9521ddbc-520c-4a56-989e-43a192608f72"
      },
      "outputs": [
        {
          "name": "stdout",
          "output_type": "stream",
          "text": [
            "Русский корпус:\n",
            " sentiment\n",
            "neutral     488\n",
            "negative    344\n",
            "positive    168\n",
            "Name: count, dtype: int64\n"
          ]
        }
      ],
      "source": [
        "print(\"Русский корпус:\\n\", ru_df[\"sentiment\"].value_counts())"
      ]
    },
    {
      "cell_type": "markdown",
      "metadata": {},
      "source": [
        "Визуализируем полученные результаты и сравним их друг с другом."
      ]
    },
    {
      "cell_type": "code",
      "execution_count": 1,
      "metadata": {},
      "outputs": [],
      "source": [
        "import matplotlib.pyplot as plt"
      ]
    },
    {
      "cell_type": "code",
      "execution_count": 10,
      "metadata": {},
      "outputs": [],
      "source": [
        "en_path= r'c:\\Users\\Алия\\Desktop\\учеба\\проект 2\\en_sent.csv'\n",
        "ru_path= r'c:\\Users\\Алия\\Desktop\\учеба\\проект 2\\ru_sent.csv'"
      ]
    },
    {
      "cell_type": "code",
      "execution_count": 16,
      "metadata": {},
      "outputs": [],
      "source": [
        "ru_sent = pd.read_csv(ru_path)\n",
        "en_sent = pd.read_csv(en_path)"
      ]
    },
    {
      "cell_type": "code",
      "execution_count": 17,
      "metadata": {},
      "outputs": [],
      "source": [
        "ru_counts = ru_sent[\"sentiment\"].value_counts()\n",
        "en_counts = en_sent[\"sentiment\"].value_counts()"
      ]
    },
    {
      "cell_type": "code",
      "execution_count": 18,
      "metadata": {},
      "outputs": [],
      "source": [
        "labels = [\"positive\", \"neutral\", \"negative\"]\n",
        "ru_sizes = [ru_counts.get(label, 0) for label in labels]\n",
        "en_sizes = [en_counts.get(label, 0) for label in labels]\n",
        "colors = [\"#66c2a5\", \"#fc8d62\", \"#8da0cb\"]"
      ]
    },
    {
      "cell_type": "code",
      "execution_count": 21,
      "metadata": {},
      "outputs": [
        {
          "data": {
            "image/png": "[encoded data removed]",
            "text/plain": [
              "<Figure size 1200x600 with 2 Axes>"
            ]
          },
          "metadata": {},
          "output_type": "display_data"
        }
      ],
      "source": [
        "fig, axes = plt.subplots(1, 2, figsize=(12, 6))\n",
        "axes[0].pie(ru_sizes, labels=labels, autopct=\"%1.1f%%\", startangle=140, colors=colors)\n",
        "axes[0].set_title(\"Русский корпус (KHL)\")\n",
        "axes[1].pie(en_sizes, labels=labels, autopct=\"%1.1f%%\", startangle=140, colors=colors)\n",
        "axes[1].set_title(\"Английский корпус (NHL)\")\n",
        "plt.tight_layout()\n",
        "plt.show()"
      ]
    },
    {
      "cell_type": "markdown",
      "metadata": {},
      "source": [
        "На основе полученной разметки попробуем обучить новую модель сентимент-анализа, работающую с двумя языками. "
      ]
    },
    {
      "cell_type": "code",
      "execution_count": 7,
      "metadata": {
        "id": "dm6-4RQJ9Ph1"
      },
      "outputs": [
        {
          "name": "stderr",
          "output_type": "stream",
          "text": [
            "c:\\Users\\Алия\\AppData\\Local\\Programs\\Python\\Python313\\Lib\\site-packages\\tqdm\\auto.py:21: TqdmWarning: IProgress not found. Please update jupyter and ipywidgets. See https://ipywidgets.readthedocs.io/en/stable/user_install.html\n",
            "  from .autonotebook import tqdm as notebook_tqdm\n"
          ]
        }
      ],
      "source": [
        "import pandas as pd\n",
        "import torch\n",
        "import numpy as np\n",
        "from sklearn.model_selection import train_test_split\n",
        "from sklearn.metrics import accuracy_score, f1_score\n",
        "from torch.utils.data import DataLoader, Dataset\n",
        "from transformers import AutoTokenizer, AutoModelForSequenceClassification\n",
        "from tqdm import tqdm"
      ]
    },
    {
      "cell_type": "code",
      "execution_count": null,
      "metadata": {
        "id": "jQZPRO859Ssc"
      },
      "outputs": [],
      "source": [
        "en_chunks_path = \"chunks_df.csv\"\n",
        "ru_chunks_path = \"chunks_df_ru.csv\""
      ]
    },
    {
      "cell_type": "code",
      "execution_count": null,
      "metadata": {
        "colab": {
          "base_uri": "https://localhost:8080/"
        },
        "id": "LqlJ4nERGznm",
        "outputId": "589af036-ce40-4b6a-a540-05a3502746c9"
      },
      "outputs": [
        {
          "name": "stdout",
          "output_type": "stream",
          "text": [
            "2324\n",
            "5073\n"
          ]
        }
      ],
      "source": [
        "ru_chunks_sent = pd.read_csv(ru_chunks_path)\n",
        "en_chunks_sent = pd.read_csv(en_chunks_path)\n",
        "print(len(ru_chunks_sent))\n",
        "print(len(en_chunks_sent))"
      ]
    },
    {
      "cell_type": "code",
      "execution_count": null,
      "metadata": {
        "id": "CxKg9xiggXRZ"
      },
      "outputs": [],
      "source": [
        "ru_chunks_sent[\"lang\"] = \"ru\"\n",
        "en_chunks_sent[\"lang\"] = \"en\"\n",
        "train_chunks = pd.concat([ru_chunks_sent, en_chunks_sent], ignore_index=True)"
      ]
    },
    {
      "cell_type": "code",
      "execution_count": null,
      "metadata": {
        "id": "C1woT9CQPz1S"
      },
      "outputs": [],
      "source": [
        "label_map = {'negative': 0, 'neutral': 1, 'positive': 2}\n",
        "train_chunks['label'] = train_chunks['chunk_label'].map(label_map)"
      ]
    },
    {
      "cell_type": "code",
      "execution_count": null,
      "metadata": {
        "id": "XU7ueHb1eFP_"
      },
      "outputs": [],
      "source": [
        "min_class_count = train_chunks['label'].value_counts().min()"
      ]
    },
    {
      "cell_type": "code",
      "execution_count": null,
      "metadata": {
        "colab": {
          "base_uri": "https://localhost:8080/"
        },
        "id": "-lzaYhC0eG8l",
        "outputId": "24a0e883-2cbf-4acf-fabe-efb3672bc45a"
      },
      "outputs": [
        {
          "name": "stdout",
          "output_type": "stream",
          "text": [
            "1065\n"
          ]
        }
      ],
      "source": [
        "print(min_class_count)"
      ]
    },
    {
      "cell_type": "code",
      "execution_count": null,
      "metadata": {
        "id": "P6TWEBeudva2"
      },
      "outputs": [],
      "source": [
        "balanced_chunks = pd.concat([\n",
        "    train_chunks[train_chunks[\"label\"] == 0].sample(n=min_class_count, random_state=42),\n",
        "    train_chunks[train_chunks[\"label\"] == 1].sample(n=min_class_count, random_state=42),\n",
        "    train_chunks[train_chunks[\"label\"] == 2].sample(n=min_class_count, random_state=42),\n",
        "], ignore_index=True)"
      ]
    },
    {
      "cell_type": "code",
      "execution_count": null,
      "metadata": {
        "colab": {
          "base_uri": "https://localhost:8080/",
          "height": 336,
          "referenced_widgets": [
            "823c512b7e6f4e8daef021d31f97a2b6",
            "1cd134cc2f7347ddbb9fe02b79319b05",
            "39aa80d2279043d8b3c2fc0da8610bb9",
            "40e88805e3954d18bffcf51526933330",
            "c8ed14bfc09d45ed8a9c6dcf01222e5f",
            "2d11b0a102e0497aa6b2a58f9cf7197f",
            "4b46cd1805854b6587dc79c3720c8cb5",
            "0f7fe5db654941ac81ee6b9cecea819d",
            "975d3cb4efbd4e98b654643d0108e429",
            "194f55d8206143eda47bfa5bfc82fe18",
            "fff9daee7f47491098198924099d90d1",
            "6676d37378bf4a46a43467ea1adf732c",
            "1573850cd4c347b4b166b1636a437d82",
            "7747298431354fae93d2f2519476e148",
            "fea89eb175ff4466a58a69a9ed68f862",
            "8dbbcf29b5b043e2b6bfe412b6d24fb5",
            "d625ed0ab1a141f095bbf2619be1d9df",
            "f2942a9b326a47f5a022aafecdc575f2",
            "fc312e3d1cde46198e90741e5b6bcfcb",
            "a207708d84e441fba5cb1c4b6429b16a",
            "ee48771ca5264d03800928d1cf7becce",
            "5c5c53603acb4919a4b8041ec157f31c",
            "1f3fefa3953c4743a7b6c6926971a5a3",
            "837de3a3644d4a3081fa7a94fef66153",
            "5d09ebea498e4827bbe9c9e7915355f9",
            "77626c26171c4d888d939c962c295d77",
            "f1e55d43d08c4038b70da394886b0325",
            "e6839cf39bdc4291a43f1e8e7c6ea4ee",
            "5e0d9d207ea64c71b6442ab5b916a561",
            "cb50d6b5d93a4e77aaa03045bc70a452",
            "280bc901b518459199bcb424d677fed2",
            "e1643e07f31342119e7c078747fa4a3a",
            "d70a596a812c4c7fb255979ecfbc1a68",
            "b7bb261c2255447ea10595000482b947",
            "2a2d282f510c400db7d6c39d815ec62d",
            "a49f07d49223452eb02c44785c0ff6a9",
            "d77df5c69fd6412aa94d089d686886cc",
            "65b232806186412fb452c586304375d0",
            "1b3188a4a356412eba4f7cc7cee405f7",
            "a41189cd5abc449ab53c8c9f8689140b",
            "10822a31b0024eb39aed13c02bf414df",
            "e37142b626ca41ea8a5ea85ba8f10fd5",
            "02fa6cb50acf475b915451c399eb5bd7",
            "2e00bd0762df455084843023c73962d7",
            "14f4f8316c004ef2b3e1959b12eae280",
            "9164eb91afa641259d3fa6fb43d818f4",
            "ef37c9c4ce2041ca88acb4d45241e0fc",
            "655bac3336f6459b8499cc2329d3f649",
            "4535201fdd404420bcb1e303b3c66ef8",
            "db9dc093f9d944f084eed3e1b2273621",
            "e368de91e99e4c169a3b78601972ea1a",
            "2ede32b136fe4aa3978639352e733669",
            "8b12cbe09f3a4750b3dacd3c72788d23",
            "6261bfbc46b548dd9ebcb38e20ac1018",
            "7d41d3aa52e34278b8028b7249eafa1d"
          ]
        },
        "collapsed": true,
        "id": "HpLNLS7DPz1T",
        "outputId": "b9afc0f6-80c3-4a32-8b0d-dfa15a7d8574"
      },
      "outputs": [
        {
          "name": "stderr",
          "output_type": "stream",
          "text": [
            "/usr/local/lib/python3.11/dist-packages/huggingface_hub/utils/_auth.py:94: UserWarning: \n",
            "The secret `HF_TOKEN` does not exist in your Colab secrets.\n",
            "To authenticate with the Hugging Face Hub, create a token in your settings tab (https://huggingface.co/settings/tokens), set it as secret in your Google Colab and restart your session.\n",
            "You will be able to reuse this secret in all of your notebooks.\n",
            "Please note that authentication is recommended but still optional to access public models or datasets.\n",
            "  warnings.warn(\n"
          ]
        },
        {
          "data": {
            "application/vnd.jupyter.widget-view+json": {
              "model_id": "823c512b7e6f4e8daef021d31f97a2b6",
              "version_major": 2,
              "version_minor": 0
            },
            "text/plain": [
              "tokenizer_config.json:   0%|          | 0.00/25.0 [00:00<?, ?B/s]"
            ]
          },
          "metadata": {},
          "output_type": "display_data"
        },
        {
          "data": {
            "application/vnd.jupyter.widget-view+json": {
              "model_id": "6676d37378bf4a46a43467ea1adf732c",
              "version_major": 2,
              "version_minor": 0
            },
            "text/plain": [
              "config.json:   0%|          | 0.00/615 [00:00<?, ?B/s]"
            ]
          },
          "metadata": {},
          "output_type": "display_data"
        },
        {
          "data": {
            "application/vnd.jupyter.widget-view+json": {
              "model_id": "1f3fefa3953c4743a7b6c6926971a5a3",
              "version_major": 2,
              "version_minor": 0
            },
            "text/plain": [
              "sentencepiece.bpe.model:   0%|          | 0.00/5.07M [00:00<?, ?B/s]"
            ]
          },
          "metadata": {},
          "output_type": "display_data"
        },
        {
          "data": {
            "application/vnd.jupyter.widget-view+json": {
              "model_id": "b7bb261c2255447ea10595000482b947",
              "version_major": 2,
              "version_minor": 0
            },
            "text/plain": [
              "tokenizer.json:   0%|          | 0.00/9.10M [00:00<?, ?B/s]"
            ]
          },
          "metadata": {},
          "output_type": "display_data"
        },
        {
          "data": {
            "application/vnd.jupyter.widget-view+json": {
              "model_id": "14f4f8316c004ef2b3e1959b12eae280",
              "version_major": 2,
              "version_minor": 0
            },
            "text/plain": [
              "model.safetensors:   0%|          | 0.00/1.12G [00:00<?, ?B/s]"
            ]
          },
          "metadata": {},
          "output_type": "display_data"
        },
        {
          "name": "stderr",
          "output_type": "stream",
          "text": [
            "Some weights of XLMRobertaForSequenceClassification were not initialized from the model checkpoint at xlm-roberta-base and are newly initialized: ['classifier.dense.bias', 'classifier.dense.weight', 'classifier.out_proj.bias', 'classifier.out_proj.weight']\n",
            "You should probably TRAIN this model on a down-stream task to be able to use it for predictions and inference.\n"
          ]
        }
      ],
      "source": [
        "model_name = \"xlm-roberta-base\"\n",
        "tokenizer = AutoTokenizer.from_pretrained(model_name)\n",
        "model = AutoModelForSequenceClassification.from_pretrained(model_name, num_labels=3)"
      ]
    },
    {
      "cell_type": "markdown",
      "metadata": {},
      "source": [
        "Стратификация"
      ]
    },
    {
      "cell_type": "code",
      "execution_count": null,
      "metadata": {
        "id": "KnC2eoBWPz1T"
      },
      "outputs": [],
      "source": [
        "train_texts, val_texts, train_labels, val_labels = train_test_split(\n",
        "    balanced_chunks[\"chunk_text\"].tolist(),\n",
        "    balanced_chunks[\"label\"].tolist(),\n",
        "    test_size=0.2,\n",
        "    stratify=balanced_chunks[\"label\"],\n",
        "    random_state=42\n",
        ")"
      ]
    },
    {
      "cell_type": "markdown",
      "metadata": {},
      "source": [
        "Токенизация. "
      ]
    },
    {
      "cell_type": "code",
      "execution_count": null,
      "metadata": {
        "id": "YdsCfnLQ91yW"
      },
      "outputs": [],
      "source": [
        "train_encodings = tokenizer(train_texts, truncation=True, padding=True, max_length=384) #максимальная длина чанка уменьшена для облегчения модели\n",
        "val_encodings = tokenizer(val_texts, truncation=True, padding=True, max_length=384)"
      ]
    },
    {
      "cell_type": "markdown",
      "metadata": {},
      "source": [
        "Подготовка данных для модели"
      ]
    },
    {
      "cell_type": "code",
      "execution_count": null,
      "metadata": {
        "id": "mSa273ANIDCN"
      },
      "outputs": [],
      "source": [
        "class SentimentDataset(Dataset):\n",
        "    def __init__(self, encodings, labels):\n",
        "        self.encodings = encodings\n",
        "        self.labels = labels\n",
        "\n",
        "    def __getitem__(self, idx):\n",
        "        item = {k: torch.tensor(v[idx]) for k, v in self.encodings.items()}\n",
        "        item[\"labels\"] = torch.tensor(self.labels[idx])\n",
        "        return item\n",
        "\n",
        "    def __len__(self):\n",
        "        return len(self.labels)"
      ]
    },
    {
      "cell_type": "code",
      "execution_count": null,
      "metadata": {
        "id": "cG25-L3KY8qU"
      },
      "outputs": [],
      "source": [
        "train_dataset = SentimentDataset(train_encodings, train_labels)\n",
        "val_dataset = SentimentDataset(val_encodings, val_labels)"
      ]
    },
    {
      "cell_type": "code",
      "execution_count": null,
      "metadata": {
        "id": "NVJXn3O1-ClF"
      },
      "outputs": [],
      "source": [
        "train_loader = DataLoader(train_dataset, batch_size=4, shuffle=True)\n",
        "val_loader = DataLoader(val_dataset, batch_size=4)"
      ]
    },
    {
      "cell_type": "code",
      "execution_count": null,
      "metadata": {
        "colab": {
          "base_uri": "https://localhost:8080/"
        },
        "collapsed": true,
        "id": "eJmEPWRaGZ1u",
        "outputId": "0fb8b707-e9f9-4e91-992f-6e9f366395d9"
      },
      "outputs": [
        {
          "data": {
            "text/plain": [
              "XLMRobertaForSequenceClassification(\n",
              "  (roberta): XLMRobertaModel(\n",
              "    (embeddings): XLMRobertaEmbeddings(\n",
              "      (word_embeddings): Embedding(250002, 768, padding_idx=1)\n",
              "      (position_embeddings): Embedding(514, 768, padding_idx=1)\n",
              "      (token_type_embeddings): Embedding(1, 768)\n",
              "      (LayerNorm): LayerNorm((768,), eps=1e-05, elementwise_affine=True)\n",
              "      (dropout): Dropout(p=0.1, inplace=False)\n",
              "    )\n",
              "    (encoder): XLMRobertaEncoder(\n",
              "      (layer): ModuleList(\n",
              "        (0-11): 12 x XLMRobertaLayer(\n",
              "          (attention): XLMRobertaAttention(\n",
              "            (self): XLMRobertaSdpaSelfAttention(\n",
              "              (query): Linear(in_features=768, out_features=768, bias=True)\n",
              "              (key): Linear(in_features=768, out_features=768, bias=True)\n",
              "              (value): Linear(in_features=768, out_features=768, bias=True)\n",
              "              (dropout): Dropout(p=0.1, inplace=False)\n",
              "            )\n",
              "            (output): XLMRobertaSelfOutput(\n",
              "              (dense): Linear(in_features=768, out_features=768, bias=True)\n",
              "              (LayerNorm): LayerNorm((768,), eps=1e-05, elementwise_affine=True)\n",
              "              (dropout): Dropout(p=0.1, inplace=False)\n",
              "            )\n",
              "          )\n",
              "          (intermediate): XLMRobertaIntermediate(\n",
              "            (dense): Linear(in_features=768, out_features=3072, bias=True)\n",
              "            (intermediate_act_fn): GELUActivation()\n",
              "          )\n",
              "          (output): XLMRobertaOutput(\n",
              "            (dense): Linear(in_features=3072, out_features=768, bias=True)\n",
              "            (LayerNorm): LayerNorm((768,), eps=1e-05, elementwise_affine=True)\n",
              "            (dropout): Dropout(p=0.1, inplace=False)\n",
              "          )\n",
              "        )\n",
              "      )\n",
              "    )\n",
              "  )\n",
              "  (classifier): XLMRobertaClassificationHead(\n",
              "    (dense): Linear(in_features=768, out_features=768, bias=True)\n",
              "    (dropout): Dropout(p=0.1, inplace=False)\n",
              "    (out_proj): Linear(in_features=768, out_features=3, bias=True)\n",
              "  )\n",
              ")"
            ]
          },
          "execution_count": 15,
          "metadata": {},
          "output_type": "execute_result"
        }
      ],
      "source": [
        "device = torch.device(\"cuda\" if torch.cuda.is_available() else \"cpu\")\n",
        "model.to(device)"
      ]
    },
    {
      "cell_type": "code",
      "execution_count": null,
      "metadata": {
        "id": "iuEjPw_w-HmO"
      },
      "outputs": [],
      "source": [
        "optimizer = torch.optim.AdamW(model.parameters(), lr=2e-5)\n",
        "num_epochs = 3"
      ]
    },
    {
      "cell_type": "code",
      "execution_count": null,
      "metadata": {
        "colab": {
          "base_uri": "https://localhost:8080/",
          "height": 443
        },
        "id": "n7nCgcUw-Q-P",
        "outputId": "771428ec-9940-4468-97d4-2f0a89871af0"
      },
      "outputs": [
        {
          "name": "stderr",
          "output_type": "stream",
          "text": [
            "Epoch 0: 100%|██████████| 639/639 [3:23:50<00:00, 19.14s/it, loss=0.658]\n",
            "Epoch 1: 100%|██████████| 639/639 [3:20:41<00:00, 18.85s/it, loss=0.96]\n",
            "Epoch 2:   0%|          | 3/639 [01:20<4:44:23, 26.83s/it, loss=0.931]\n"
          ]
        },
        {
          "ename": "KeyboardInterrupt",
          "evalue": "",
          "output_type": "error",
          "traceback": [
            "\u001b[0;31m---------------------------------------------------------------------------\u001b[0m",
            "\u001b[0;31mKeyboardInterrupt\u001b[0m                         Traceback (most recent call last)",
            "\u001b[0;32m/tmp/ipython-input-17-4033165275.py\u001b[0m in \u001b[0;36m<cell line: 0>\u001b[0;34m()\u001b[0m\n\u001b[1;32m      7\u001b[0m         \u001b[0mloss\u001b[0m \u001b[0;34m=\u001b[0m \u001b[0moutputs\u001b[0m\u001b[0;34m.\u001b[0m\u001b[0mloss\u001b[0m\u001b[0;34m\u001b[0m\u001b[0;34m\u001b[0m\u001b[0m\n\u001b[1;32m      8\u001b[0m         \u001b[0mloss\u001b[0m\u001b[0;34m.\u001b[0m\u001b[0mbackward\u001b[0m\u001b[0;34m(\u001b[0m\u001b[0;34m)\u001b[0m\u001b[0;34m\u001b[0m\u001b[0;34m\u001b[0m\u001b[0m\n\u001b[0;32m----> 9\u001b[0;31m         \u001b[0moptimizer\u001b[0m\u001b[0;34m.\u001b[0m\u001b[0mstep\u001b[0m\u001b[0;34m(\u001b[0m\u001b[0;34m)\u001b[0m\u001b[0;34m\u001b[0m\u001b[0;34m\u001b[0m\u001b[0m\n\u001b[0m\u001b[1;32m     10\u001b[0m         \u001b[0moptimizer\u001b[0m\u001b[0;34m.\u001b[0m\u001b[0mzero_grad\u001b[0m\u001b[0;34m(\u001b[0m\u001b[0;34m)\u001b[0m\u001b[0;34m\u001b[0m\u001b[0;34m\u001b[0m\u001b[0m\n\u001b[1;32m     11\u001b[0m         \u001b[0mloop\u001b[0m\u001b[0;34m.\u001b[0m\u001b[0mset_description\u001b[0m\u001b[0;34m(\u001b[0m\u001b[0;34mf\"Epoch {epoch}\"\u001b[0m\u001b[0;34m)\u001b[0m\u001b[0;34m\u001b[0m\u001b[0;34m\u001b[0m\u001b[0m\n",
            "\u001b[0;32m/usr/local/lib/python3.11/dist-packages/torch/optim/optimizer.py\u001b[0m in \u001b[0;36mwrapper\u001b[0;34m(*args, **kwargs)\u001b[0m\n\u001b[1;32m    491\u001b[0m                             )\n\u001b[1;32m    492\u001b[0m \u001b[0;34m\u001b[0m\u001b[0m\n\u001b[0;32m--> 493\u001b[0;31m                 \u001b[0mout\u001b[0m \u001b[0;34m=\u001b[0m \u001b[0mfunc\u001b[0m\u001b[0;34m(\u001b[0m\u001b[0;34m*\u001b[0m\u001b[0margs\u001b[0m\u001b[0;34m,\u001b[0m \u001b[0;34m**\u001b[0m\u001b[0mkwargs\u001b[0m\u001b[0;34m)\u001b[0m\u001b[0;34m\u001b[0m\u001b[0;34m\u001b[0m\u001b[0m\n\u001b[0m\u001b[1;32m    494\u001b[0m                 \u001b[0mself\u001b[0m\u001b[0;34m.\u001b[0m\u001b[0m_optimizer_step_code\u001b[0m\u001b[0;34m(\u001b[0m\u001b[0;34m)\u001b[0m\u001b[0;34m\u001b[0m\u001b[0;34m\u001b[0m\u001b[0m\n\u001b[1;32m    495\u001b[0m \u001b[0;34m\u001b[0m\u001b[0m\n",
            "\u001b[0;32m/usr/local/lib/python3.11/dist-packages/torch/optim/optimizer.py\u001b[0m in \u001b[0;36m_use_grad\u001b[0;34m(self, *args, **kwargs)\u001b[0m\n\u001b[1;32m     89\u001b[0m             \u001b[0mtorch\u001b[0m\u001b[0;34m.\u001b[0m\u001b[0mset_grad_enabled\u001b[0m\u001b[0;34m(\u001b[0m\u001b[0mself\u001b[0m\u001b[0;34m.\u001b[0m\u001b[0mdefaults\u001b[0m\u001b[0;34m[\u001b[0m\u001b[0;34m\"differentiable\"\u001b[0m\u001b[0;34m]\u001b[0m\u001b[0;34m)\u001b[0m\u001b[0;34m\u001b[0m\u001b[0;34m\u001b[0m\u001b[0m\n\u001b[1;32m     90\u001b[0m             \u001b[0mtorch\u001b[0m\u001b[0;34m.\u001b[0m\u001b[0m_dynamo\u001b[0m\u001b[0;34m.\u001b[0m\u001b[0mgraph_break\u001b[0m\u001b[0;34m(\u001b[0m\u001b[0;34m)\u001b[0m\u001b[0;34m\u001b[0m\u001b[0;34m\u001b[0m\u001b[0m\n\u001b[0;32m---> 91\u001b[0;31m             \u001b[0mret\u001b[0m \u001b[0;34m=\u001b[0m \u001b[0mfunc\u001b[0m\u001b[0;34m(\u001b[0m\u001b[0mself\u001b[0m\u001b[0;34m,\u001b[0m \u001b[0;34m*\u001b[0m\u001b[0margs\u001b[0m\u001b[0;34m,\u001b[0m \u001b[0;34m**\u001b[0m\u001b[0mkwargs\u001b[0m\u001b[0;34m)\u001b[0m\u001b[0;34m\u001b[0m\u001b[0;34m\u001b[0m\u001b[0m\n\u001b[0m\u001b[1;32m     92\u001b[0m         \u001b[0;32mfinally\u001b[0m\u001b[0;34m:\u001b[0m\u001b[0;34m\u001b[0m\u001b[0;34m\u001b[0m\u001b[0m\n\u001b[1;32m     93\u001b[0m             \u001b[0mtorch\u001b[0m\u001b[0;34m.\u001b[0m\u001b[0m_dynamo\u001b[0m\u001b[0;34m.\u001b[0m\u001b[0mgraph_break\u001b[0m\u001b[0;34m(\u001b[0m\u001b[0;34m)\u001b[0m\u001b[0;34m\u001b[0m\u001b[0;34m\u001b[0m\u001b[0m\n",
            "\u001b[0;32m/usr/local/lib/python3.11/dist-packages/torch/optim/adamw.py\u001b[0m in \u001b[0;36mstep\u001b[0;34m(self, closure)\u001b[0m\n\u001b[1;32m    241\u001b[0m             )\n\u001b[1;32m    242\u001b[0m \u001b[0;34m\u001b[0m\u001b[0m\n\u001b[0;32m--> 243\u001b[0;31m             adamw(\n\u001b[0m\u001b[1;32m    244\u001b[0m                 \u001b[0mparams_with_grad\u001b[0m\u001b[0;34m,\u001b[0m\u001b[0;34m\u001b[0m\u001b[0;34m\u001b[0m\u001b[0m\n\u001b[1;32m    245\u001b[0m                 \u001b[0mgrads\u001b[0m\u001b[0;34m,\u001b[0m\u001b[0;34m\u001b[0m\u001b[0;34m\u001b[0m\u001b[0m\n",
            "\u001b[0;32m/usr/local/lib/python3.11/dist-packages/torch/optim/optimizer.py\u001b[0m in \u001b[0;36mmaybe_fallback\u001b[0;34m(*args, **kwargs)\u001b[0m\n\u001b[1;32m    152\u001b[0m                 \u001b[0;32mreturn\u001b[0m \u001b[0mdisabled_func\u001b[0m\u001b[0;34m(\u001b[0m\u001b[0;34m*\u001b[0m\u001b[0margs\u001b[0m\u001b[0;34m,\u001b[0m \u001b[0;34m**\u001b[0m\u001b[0mkwargs\u001b[0m\u001b[0;34m)\u001b[0m\u001b[0;34m\u001b[0m\u001b[0;34m\u001b[0m\u001b[0m\n\u001b[1;32m    153\u001b[0m             \u001b[0;32melse\u001b[0m\u001b[0;34m:\u001b[0m\u001b[0;34m\u001b[0m\u001b[0;34m\u001b[0m\u001b[0m\n\u001b[0;32m--> 154\u001b[0;31m                 \u001b[0;32mreturn\u001b[0m \u001b[0mfunc\u001b[0m\u001b[0;34m(\u001b[0m\u001b[0;34m*\u001b[0m\u001b[0margs\u001b[0m\u001b[0;34m,\u001b[0m \u001b[0;34m**\u001b[0m\u001b[0mkwargs\u001b[0m\u001b[0;34m)\u001b[0m\u001b[0;34m\u001b[0m\u001b[0;34m\u001b[0m\u001b[0m\n\u001b[0m\u001b[1;32m    155\u001b[0m \u001b[0;34m\u001b[0m\u001b[0m\n\u001b[1;32m    156\u001b[0m         \u001b[0;32mreturn\u001b[0m \u001b[0mmaybe_fallback\u001b[0m\u001b[0;34m\u001b[0m\u001b[0;34m\u001b[0m\u001b[0m\n",
            "\u001b[0;32m/usr/local/lib/python3.11/dist-packages/torch/optim/adamw.py\u001b[0m in \u001b[0;36madamw\u001b[0;34m(params, grads, exp_avgs, exp_avg_sqs, max_exp_avg_sqs, state_steps, foreach, capturable, differentiable, fused, grad_scale, found_inf, has_complex, amsgrad, beta1, beta2, lr, weight_decay, eps, maximize)\u001b[0m\n\u001b[1;32m    873\u001b[0m         \u001b[0mfunc\u001b[0m \u001b[0;34m=\u001b[0m \u001b[0m_single_tensor_adamw\u001b[0m\u001b[0;34m\u001b[0m\u001b[0;34m\u001b[0m\u001b[0m\n\u001b[1;32m    874\u001b[0m \u001b[0;34m\u001b[0m\u001b[0m\n\u001b[0;32m--> 875\u001b[0;31m     func(\n\u001b[0m\u001b[1;32m    876\u001b[0m         \u001b[0mparams\u001b[0m\u001b[0;34m,\u001b[0m\u001b[0;34m\u001b[0m\u001b[0;34m\u001b[0m\u001b[0m\n\u001b[1;32m    877\u001b[0m         \u001b[0mgrads\u001b[0m\u001b[0;34m,\u001b[0m\u001b[0;34m\u001b[0m\u001b[0;34m\u001b[0m\u001b[0m\n",
            "\u001b[0;32m/usr/local/lib/python3.11/dist-packages/torch/optim/adamw.py\u001b[0m in \u001b[0;36m_single_tensor_adamw\u001b[0;34m(params, grads, exp_avgs, exp_avg_sqs, max_exp_avg_sqs, state_steps, grad_scale, found_inf, amsgrad, beta1, beta2, lr, weight_decay, eps, maximize, capturable, differentiable, has_complex)\u001b[0m\n\u001b[1;32m    475\u001b[0m                 \u001b[0mdenom\u001b[0m \u001b[0;34m=\u001b[0m \u001b[0;34m(\u001b[0m\u001b[0mmax_exp_avg_sqs\u001b[0m\u001b[0;34m[\u001b[0m\u001b[0mi\u001b[0m\u001b[0;34m]\u001b[0m\u001b[0;34m.\u001b[0m\u001b[0msqrt\u001b[0m\u001b[0;34m(\u001b[0m\u001b[0;34m)\u001b[0m \u001b[0;34m/\u001b[0m \u001b[0mbias_correction2_sqrt\u001b[0m\u001b[0;34m)\u001b[0m\u001b[0;34m.\u001b[0m\u001b[0madd_\u001b[0m\u001b[0;34m(\u001b[0m\u001b[0meps\u001b[0m\u001b[0;34m)\u001b[0m\u001b[0;34m\u001b[0m\u001b[0;34m\u001b[0m\u001b[0m\n\u001b[1;32m    476\u001b[0m             \u001b[0;32melse\u001b[0m\u001b[0;34m:\u001b[0m\u001b[0;34m\u001b[0m\u001b[0;34m\u001b[0m\u001b[0m\n\u001b[0;32m--> 477\u001b[0;31m                 \u001b[0mdenom\u001b[0m \u001b[0;34m=\u001b[0m \u001b[0;34m(\u001b[0m\u001b[0mexp_avg_sq\u001b[0m\u001b[0;34m.\u001b[0m\u001b[0msqrt\u001b[0m\u001b[0;34m(\u001b[0m\u001b[0;34m)\u001b[0m \u001b[0;34m/\u001b[0m \u001b[0mbias_correction2_sqrt\u001b[0m\u001b[0;34m)\u001b[0m\u001b[0;34m.\u001b[0m\u001b[0madd_\u001b[0m\u001b[0;34m(\u001b[0m\u001b[0meps\u001b[0m\u001b[0;34m)\u001b[0m\u001b[0;34m\u001b[0m\u001b[0;34m\u001b[0m\u001b[0m\n\u001b[0m\u001b[1;32m    478\u001b[0m \u001b[0;34m\u001b[0m\u001b[0m\n\u001b[1;32m    479\u001b[0m             \u001b[0mparam\u001b[0m\u001b[0;34m.\u001b[0m\u001b[0maddcdiv_\u001b[0m\u001b[0;34m(\u001b[0m\u001b[0mexp_avg\u001b[0m\u001b[0;34m,\u001b[0m \u001b[0mdenom\u001b[0m\u001b[0;34m,\u001b[0m \u001b[0mvalue\u001b[0m\u001b[0;34m=\u001b[0m\u001b[0;34m-\u001b[0m\u001b[0mstep_size\u001b[0m\u001b[0;34m)\u001b[0m\u001b[0;34m\u001b[0m\u001b[0;34m\u001b[0m\u001b[0m\n",
            "\u001b[0;31mKeyboardInterrupt\u001b[0m: "
          ]
        }
      ],
      "source": [
        "model.train()\n",
        "for epoch in range(num_epochs):\n",
        "    loop = tqdm(train_loader, leave=True)\n",
        "    for batch in loop:\n",
        "        batch = {k: v.to(device) for k, v in batch.items()}\n",
        "        outputs = model(**batch)\n",
        "        loss = outputs.loss\n",
        "        loss.backward()\n",
        "        optimizer.step()\n",
        "        optimizer.zero_grad()\n",
        "        loop.set_description(f\"Epoch {epoch}\")\n",
        "        loop.set_postfix(loss=loss.item())\n",
        "\n",
        "    # Сохранение модели после каждой эпохи\n",
        "    model.save_pretrained(f\"saved_model_xlmr_epoch{epoch}\")\n",
        "    tokenizer.save_pretrained(f\"saved_model_xlmr_epoch{epoch}\")"
      ]
    },
    {
      "cell_type": "markdown",
      "metadata": {},
      "source": [
        "После первой эпохи лосс начал расти, дальнейшее обучение остановлено, в дальнейшем используется толькообучение на одной эпохе."
      ]
    },
    {
      "cell_type": "code",
      "execution_count": null,
      "metadata": {
        "colab": {
          "base_uri": "https://localhost:8080/"
        },
        "id": "-HYKmDxgK7AA",
        "outputId": "ab86882b-a53c-4795-d8a3-3aa6010ef2ae"
      },
      "outputs": [
        {
          "name": "stdout",
          "output_type": "stream",
          "text": [
            "  adding: saved_model_xlmr_epoch0/ (stored 0%)\n",
            "  adding: saved_model_xlmr_epoch0/config.json (deflated 52%)\n",
            "  adding: saved_model_xlmr_epoch0/special_tokens_map.json (deflated 52%)\n",
            "  adding: saved_model_xlmr_epoch0/tokenizer.json (deflated 76%)\n",
            "  adding: saved_model_xlmr_epoch0/tokenizer_config.json (deflated 76%)\n",
            "  adding: saved_model_xlmr_epoch0/sentencepiece.bpe.model (deflated 49%)\n",
            "  adding: saved_model_xlmr_epoch0/.ipynb_checkpoints/ (stored 0%)\n",
            "  adding: saved_model_xlmr_epoch0/model.safetensors (deflated 27%)\n"
          ]
        }
      ],
      "source": [
        "!zip -r saved_model_xlmr_epoch0.zip saved_model_xlmr_epoch0"
      ]
    },
    {
      "cell_type": "code",
      "execution_count": null,
      "metadata": {
        "colab": {
          "base_uri": "https://localhost:8080/",
          "height": 17
        },
        "id": "cyh3nmDoortC",
        "outputId": "8b7abb26-6a57-4ca2-8972-1f0fdbddb768"
      },
      "outputs": [
        {
          "data": {
            "application/javascript": "\n    async function download(id, filename, size) {\n      if (!google.colab.kernel.accessAllowed) {\n        return;\n      }\n      const div = document.createElement('div');\n      const label = document.createElement('label');\n      label.textContent = `Downloading \"${filename}\": `;\n      div.appendChild(label);\n      const progress = document.createElement('progress');\n      progress.max = size;\n      div.appendChild(progress);\n      document.body.appendChild(div);\n\n      const buffers = [];\n      let downloaded = 0;\n\n      const channel = await google.colab.kernel.comms.open(id);\n      // Send a message to notify the kernel that we're ready.\n      channel.send({})\n\n      for await (const message of channel.messages) {\n        // Send a message to notify the kernel that we're ready.\n        channel.send({})\n        if (message.buffers) {\n          for (const buffer of message.buffers) {\n            buffers.push(buffer);\n            downloaded += buffer.byteLength;\n            progress.value = downloaded;\n          }\n        }\n      }\n      const blob = new Blob(buffers, {type: 'application/binary'});\n      const a = document.createElement('a');\n      a.href = window.URL.createObjectURL(blob);\n      a.download = filename;\n      div.appendChild(a);\n      a.click();\n      div.remove();\n    }\n  ",
            "text/plain": [
              "<IPython.core.display.Javascript object>"
            ]
          },
          "metadata": {},
          "output_type": "display_data"
        },
        {
          "data": {
            "application/javascript": "download(\"download_1b8ebca0-7226-465b-b3ea-5ea65451d651\", \"saved_model_xlmr_epoch0.zip\", 813737837)",
            "text/plain": [
              "<IPython.core.display.Javascript object>"
            ]
          },
          "metadata": {},
          "output_type": "display_data"
        }
      ],
      "source": [
        "from google.colab import files\n",
        "files.download('saved_model_xlmr_epoch0.zip')"
      ]
    },
    {
      "cell_type": "code",
      "execution_count": null,
      "metadata": {
        "colab": {
          "base_uri": "https://localhost:8080/"
        },
        "collapsed": true,
        "id": "CvoVVVa1sfnP",
        "outputId": "4c41b1c9-cfce-4a58-a0fc-80bed59415f1"
      },
      "outputs": [
        {
          "data": {
            "text/plain": [
              "XLMRobertaForSequenceClassification(\n",
              "  (roberta): XLMRobertaModel(\n",
              "    (embeddings): XLMRobertaEmbeddings(\n",
              "      (word_embeddings): Embedding(250002, 768, padding_idx=1)\n",
              "      (position_embeddings): Embedding(514, 768, padding_idx=1)\n",
              "      (token_type_embeddings): Embedding(1, 768)\n",
              "      (LayerNorm): LayerNorm((768,), eps=1e-05, elementwise_affine=True)\n",
              "      (dropout): Dropout(p=0.1, inplace=False)\n",
              "    )\n",
              "    (encoder): XLMRobertaEncoder(\n",
              "      (layer): ModuleList(\n",
              "        (0-11): 12 x XLMRobertaLayer(\n",
              "          (attention): XLMRobertaAttention(\n",
              "            (self): XLMRobertaSdpaSelfAttention(\n",
              "              (query): Linear(in_features=768, out_features=768, bias=True)\n",
              "              (key): Linear(in_features=768, out_features=768, bias=True)\n",
              "              (value): Linear(in_features=768, out_features=768, bias=True)\n",
              "              (dropout): Dropout(p=0.1, inplace=False)\n",
              "            )\n",
              "            (output): XLMRobertaSelfOutput(\n",
              "              (dense): Linear(in_features=768, out_features=768, bias=True)\n",
              "              (LayerNorm): LayerNorm((768,), eps=1e-05, elementwise_affine=True)\n",
              "              (dropout): Dropout(p=0.1, inplace=False)\n",
              "            )\n",
              "          )\n",
              "          (intermediate): XLMRobertaIntermediate(\n",
              "            (dense): Linear(in_features=768, out_features=3072, bias=True)\n",
              "            (intermediate_act_fn): GELUActivation()\n",
              "          )\n",
              "          (output): XLMRobertaOutput(\n",
              "            (dense): Linear(in_features=3072, out_features=768, bias=True)\n",
              "            (LayerNorm): LayerNorm((768,), eps=1e-05, elementwise_affine=True)\n",
              "            (dropout): Dropout(p=0.1, inplace=False)\n",
              "          )\n",
              "        )\n",
              "      )\n",
              "    )\n",
              "  )\n",
              "  (classifier): XLMRobertaClassificationHead(\n",
              "    (dense): Linear(in_features=768, out_features=768, bias=True)\n",
              "    (dropout): Dropout(p=0.1, inplace=False)\n",
              "    (out_proj): Linear(in_features=768, out_features=3, bias=True)\n",
              "  )\n",
              ")"
            ]
          },
          "execution_count": 24,
          "metadata": {},
          "output_type": "execute_result"
        }
      ],
      "source": [
        "model = AutoModelForSequenceClassification.from_pretrained(\"saved_model_xlmr_epoch0\")\n",
        "tokenizer = AutoTokenizer.from_pretrained(\"saved_model_xlmr_epoch0\")\n",
        "model.to(device)"
      ]
    },
    {
      "cell_type": "markdown",
      "metadata": {},
      "source": [
        "Оценка."
      ]
    },
    {
      "cell_type": "code",
      "execution_count": null,
      "metadata": {
        "id": "1aSmGZfYcKhp"
      },
      "outputs": [],
      "source": [
        "model.eval()\n",
        "preds = []\n",
        "true_labels = []\n",
        "\n",
        "with torch.no_grad():\n",
        "    for batch in val_loader:\n",
        "        batch = {k: v.to(device) for k, v in batch.items()}\n",
        "        outputs = model(**batch)\n",
        "        logits = outputs.logits\n",
        "        predictions = torch.argmax(logits, dim=-1)\n",
        "        preds.extend(predictions.cpu().numpy())\n",
        "        true_labels.extend(batch[\"labels\"].cpu().numpy())"
      ]
    },
    {
      "cell_type": "code",
      "execution_count": null,
      "metadata": {
        "colab": {
          "base_uri": "https://localhost:8080/"
        },
        "id": "H9FGBf_ucnUY",
        "outputId": "30a4bfe6-adfb-4e2f-f895-6a76bad2e794"
      },
      "outputs": [
        {
          "name": "stdout",
          "output_type": "stream",
          "text": [
            "\n",
            "Validation Accuracy: 0.4726\n",
            "Validation F1 Score: 0.3834\n"
          ]
        }
      ],
      "source": [
        "acc = accuracy_score(true_labels, preds)\n",
        "f1 = f1_score(true_labels, preds, average=\"macro\")\n",
        "print(f\"\\nValidation Accuracy: {acc:.4f}\")\n",
        "print(f\"Validation F1 Score: {f1:.4f}\")"
      ]
    }
  ],
  "metadata": {
    "colab": {
      "provenance": []
    },
    "kernelspec": {
      "display_name": "Python 3",
      "name": "python3"
    },
    "language_info": {
      "codemirror_mode": {
        "name": "ipython",
        "version": 3
      },
      "file_extension": ".py",
      "mimetype": "text/x-python",
      "name": "python",
      "nbconvert_exporter": "python",
      "pygments_lexer": "ipython3",
      "version": "3.13.0"
    },
    "widgets": {
      "application/vnd.jupyter.widget-state+json": {
        "02fa6cb50acf475b915451c399eb5bd7": {
          "model_module": "@jupyter-widgets/base",
          "model_module_version": "1.2.0",
          "model_name": "LayoutModel",
          "state": {
            "_model_module": "@jupyter-widgets/base",
            "_model_module_version": "1.2.0",
            "_model_name": "LayoutModel",
            "_view_count": null,
            "_view_module": "@jupyter-widgets/base",
            "_view_module_version": "1.2.0",
            "_view_name": "LayoutView",
            "align_content": null,
            "align_items": null,
            "align_self": null,
            "border": null,
            "bottom": null,
            "display": null,
            "flex": null,
            "flex_flow": null,
            "grid_area": null,
            "grid_auto_columns": null,
            "grid_auto_flow": null,
            "grid_auto_rows": null,
            "grid_column": null,
            "grid_gap": null,
            "grid_row": null,
            "grid_template_areas": null,
            "grid_template_columns": null,
            "grid_template_rows": null,
            "height": null,
            "justify_content": null,
            "justify_items": null,
            "left": null,
            "margin": null,
            "max_height": null,
            "max_width": null,
            "min_height": null,
            "min_width": null,
            "object_fit": null,
            "object_position": null,
            "order": null,
            "overflow": null,
            "overflow_x": null,
            "overflow_y": null,
            "padding": null,
            "right": null,
            "top": null,
            "visibility": null,
            "width": null
          }
        },
        "0f7fe5db654941ac81ee6b9cecea819d": {
          "model_module": "@jupyter-widgets/base",
          "model_module_version": "1.2.0",
          "model_name": "LayoutModel",
          "state": {
            "_model_module": "@jupyter-widgets/base",
            "_model_module_version": "1.2.0",
            "_model_name": "LayoutModel",
            "_view_count": null,
            "_view_module": "@jupyter-widgets/base",
            "_view_module_version": "1.2.0",
            "_view_name": "LayoutView",
            "align_content": null,
            "align_items": null,
            "align_self": null,
            "border": null,
            "bottom": null,
            "display": null,
            "flex": null,
            "flex_flow": null,
            "grid_area": null,
            "grid_auto_columns": null,
            "grid_auto_flow": null,
            "grid_auto_rows": null,
            "grid_column": null,
            "grid_gap": null,
            "grid_row": null,
            "grid_template_areas": null,
            "grid_template_columns": null,
            "grid_template_rows": null,
            "height": null,
            "justify_content": null,
            "justify_items": null,
            "left": null,
            "margin": null,
            "max_height": null,
            "max_width": null,
            "min_height": null,
            "min_width": null,
            "object_fit": null,
            "object_position": null,
            "order": null,
            "overflow": null,
            "overflow_x": null,
            "overflow_y": null,
            "padding": null,
            "right": null,
            "top": null,
            "visibility": null,
            "width": null
          }
        },
        "10822a31b0024eb39aed13c02bf414df": {
          "model_module": "@jupyter-widgets/base",
          "model_module_version": "1.2.0",
          "model_name": "LayoutModel",
          "state": {
            "_model_module": "@jupyter-widgets/base",
            "_model_module_version": "1.2.0",
            "_model_name": "LayoutModel",
            "_view_count": null,
            "_view_module": "@jupyter-widgets/base",
            "_view_module_version": "1.2.0",
            "_view_name": "LayoutView",
            "align_content": null,
            "align_items": null,
            "align_self": null,
            "border": null,
            "bottom": null,
            "display": null,
            "flex": null,
            "flex_flow": null,
            "grid_area": null,
            "grid_auto_columns": null,
            "grid_auto_flow": null,
            "grid_auto_rows": null,
            "grid_column": null,
            "grid_gap": null,
            "grid_row": null,
            "grid_template_areas": null,
            "grid_template_columns": null,
            "grid_template_rows": null,
            "height": null,
            "justify_content": null,
            "justify_items": null,
            "left": null,
            "margin": null,
            "max_height": null,
            "max_width": null,
            "min_height": null,
            "min_width": null,
            "object_fit": null,
            "object_position": null,
            "order": null,
            "overflow": null,
            "overflow_x": null,
            "overflow_y": null,
            "padding": null,
            "right": null,
            "top": null,
            "visibility": null,
            "width": null
          }
        },
        "14f4f8316c004ef2b3e1959b12eae280": {
          "model_module": "@jupyter-widgets/controls",
          "model_module_version": "1.5.0",
          "model_name": "HBoxModel",
          "state": {
            "_dom_classes": [],
            "_model_module": "@jupyter-widgets/controls",
            "_model_module_version": "1.5.0",
            "_model_name": "HBoxModel",
            "_view_count": null,
            "_view_module": "@jupyter-widgets/controls",
            "_view_module_version": "1.5.0",
            "_view_name": "HBoxView",
            "box_style": "",
            "children": [
              "IPY_MODEL_9164eb91afa641259d3fa6fb43d818f4",
              "IPY_MODEL_ef37c9c4ce2041ca88acb4d45241e0fc",
              "IPY_MODEL_655bac3336f6459b8499cc2329d3f649"
            ],
            "layout": "IPY_MODEL_4535201fdd404420bcb1e303b3c66ef8"
          }
        },
        "1573850cd4c347b4b166b1636a437d82": {
          "model_module": "@jupyter-widgets/controls",
          "model_module_version": "1.5.0",
          "model_name": "HTMLModel",
          "state": {
            "_dom_classes": [],
            "_model_module": "@jupyter-widgets/controls",
            "_model_module_version": "1.5.0",
            "_model_name": "HTMLModel",
            "_view_count": null,
            "_view_module": "@jupyter-widgets/controls",
            "_view_module_version": "1.5.0",
            "_view_name": "HTMLView",
            "description": "",
            "description_tooltip": null,
            "layout": "IPY_MODEL_d625ed0ab1a141f095bbf2619be1d9df",
            "placeholder": "​",
            "style": "IPY_MODEL_f2942a9b326a47f5a022aafecdc575f2",
            "value": "config.json: 100%"
          }
        },
        "194f55d8206143eda47bfa5bfc82fe18": {
          "model_module": "@jupyter-widgets/base",
          "model_module_version": "1.2.0",
          "model_name": "LayoutModel",
          "state": {
            "_model_module": "@jupyter-widgets/base",
            "_model_module_version": "1.2.0",
            "_model_name": "LayoutModel",
            "_view_count": null,
            "_view_module": "@jupyter-widgets/base",
            "_view_module_version": "1.2.0",
            "_view_name": "LayoutView",
            "align_content": null,
            "align_items": null,
            "align_self": null,
            "border": null,
            "bottom": null,
            "display": null,
            "flex": null,
            "flex_flow": null,
            "grid_area": null,
            "grid_auto_columns": null,
            "grid_auto_flow": null,
            "grid_auto_rows": null,
            "grid_column": null,
            "grid_gap": null,
            "grid_row": null,
            "grid_template_areas": null,
            "grid_template_columns": null,
            "grid_template_rows": null,
            "height": null,
            "justify_content": null,
            "justify_items": null,
            "left": null,
            "margin": null,
            "max_height": null,
            "max_width": null,
            "min_height": null,
            "min_width": null,
            "object_fit": null,
            "object_position": null,
            "order": null,
            "overflow": null,
            "overflow_x": null,
            "overflow_y": null,
            "padding": null,
            "right": null,
            "top": null,
            "visibility": null,
            "width": null
          }
        },
        "1b3188a4a356412eba4f7cc7cee405f7": {
          "model_module": "@jupyter-widgets/base",
          "model_module_version": "1.2.0",
          "model_name": "LayoutModel",
          "state": {
            "_model_module": "@jupyter-widgets/base",
            "_model_module_version": "1.2.0",
            "_model_name": "LayoutModel",
            "_view_count": null,
            "_view_module": "@jupyter-widgets/base",
            "_view_module_version": "1.2.0",
            "_view_name": "LayoutView",
            "align_content": null,
            "align_items": null,
            "align_self": null,
            "border": null,
            "bottom": null,
            "display": null,
            "flex": null,
            "flex_flow": null,
            "grid_area": null,
            "grid_auto_columns": null,
            "grid_auto_flow": null,
            "grid_auto_rows": null,
            "grid_column": null,
            "grid_gap": null,
            "grid_row": null,
            "grid_template_areas": null,
            "grid_template_columns": null,
            "grid_template_rows": null,
            "height": null,
            "justify_content": null,
            "justify_items": null,
            "left": null,
            "margin": null,
            "max_height": null,
            "max_width": null,
            "min_height": null,
            "min_width": null,
            "object_fit": null,
            "object_position": null,
            "order": null,
            "overflow": null,
            "overflow_x": null,
            "overflow_y": null,
            "padding": null,
            "right": null,
            "top": null,
            "visibility": null,
            "width": null
          }
        },
        "1cd134cc2f7347ddbb9fe02b79319b05": {
          "model_module": "@jupyter-widgets/controls",
          "model_module_version": "1.5.0",
          "model_name": "HTMLModel",
          "state": {
            "_dom_classes": [],
            "_model_module": "@jupyter-widgets/controls",
            "_model_module_version": "1.5.0",
            "_model_name": "HTMLModel",
            "_view_count": null,
            "_view_module": "@jupyter-widgets/controls",
            "_view_module_version": "1.5.0",
            "_view_name": "HTMLView",
            "description": "",
            "description_tooltip": null,
            "layout": "IPY_MODEL_2d11b0a102e0497aa6b2a58f9cf7197f",
            "placeholder": "​",
            "style": "IPY_MODEL_4b46cd1805854b6587dc79c3720c8cb5",
            "value": "tokenizer_config.json: 100%"
          }
        },
        "1f3fefa3953c4743a7b6c6926971a5a3": {
          "model_module": "@jupyter-widgets/controls",
          "model_module_version": "1.5.0",
          "model_name": "HBoxModel",
          "state": {
            "_dom_classes": [],
            "_model_module": "@jupyter-widgets/controls",
            "_model_module_version": "1.5.0",
            "_model_name": "HBoxModel",
            "_view_count": null,
            "_view_module": "@jupyter-widgets/controls",
            "_view_module_version": "1.5.0",
            "_view_name": "HBoxView",
            "box_style": "",
            "children": [
              "IPY_MODEL_837de3a3644d4a3081fa7a94fef66153",
              "IPY_MODEL_5d09ebea498e4827bbe9c9e7915355f9",
              "IPY_MODEL_77626c26171c4d888d939c962c295d77"
            ],
            "layout": "IPY_MODEL_f1e55d43d08c4038b70da394886b0325"
          }
        },
        "280bc901b518459199bcb424d677fed2": {
          "model_module": "@jupyter-widgets/controls",
          "model_module_version": "1.5.0",
          "model_name": "ProgressStyleModel",
          "state": {
            "_model_module": "@jupyter-widgets/controls",
            "_model_module_version": "1.5.0",
            "_model_name": "ProgressStyleModel",
            "_view_count": null,
            "_view_module": "@jupyter-widgets/base",
            "_view_module_version": "1.2.0",
            "_view_name": "StyleView",
            "bar_color": null,
            "description_width": ""
          }
        },
        "2a2d282f510c400db7d6c39d815ec62d": {
          "model_module": "@jupyter-widgets/controls",
          "model_module_version": "1.5.0",
          "model_name": "HTMLModel",
          "state": {
            "_dom_classes": [],
            "_model_module": "@jupyter-widgets/controls",
            "_model_module_version": "1.5.0",
            "_model_name": "HTMLModel",
            "_view_count": null,
            "_view_module": "@jupyter-widgets/controls",
            "_view_module_version": "1.5.0",
            "_view_name": "HTMLView",
            "description": "",
            "description_tooltip": null,
            "layout": "IPY_MODEL_1b3188a4a356412eba4f7cc7cee405f7",
            "placeholder": "​",
            "style": "IPY_MODEL_a41189cd5abc449ab53c8c9f8689140b",
            "value": "tokenizer.json: 100%"
          }
        },
        "2d11b0a102e0497aa6b2a58f9cf7197f": {
          "model_module": "@jupyter-widgets/base",
          "model_module_version": "1.2.0",
          "model_name": "LayoutModel",
          "state": {
            "_model_module": "@jupyter-widgets/base",
            "_model_module_version": "1.2.0",
            "_model_name": "LayoutModel",
            "_view_count": null,
            "_view_module": "@jupyter-widgets/base",
            "_view_module_version": "1.2.0",
            "_view_name": "LayoutView",
            "align_content": null,
            "align_items": null,
            "align_self": null,
            "border": null,
            "bottom": null,
            "display": null,
            "flex": null,
            "flex_flow": null,
            "grid_area": null,
            "grid_auto_columns": null,
            "grid_auto_flow": null,
            "grid_auto_rows": null,
            "grid_column": null,
            "grid_gap": null,
            "grid_row": null,
            "grid_template_areas": null,
            "grid_template_columns": null,
            "grid_template_rows": null,
            "height": null,
            "justify_content": null,
            "justify_items": null,
            "left": null,
            "margin": null,
            "max_height": null,
            "max_width": null,
            "min_height": null,
            "min_width": null,
            "object_fit": null,
            "object_position": null,
            "order": null,
            "overflow": null,
            "overflow_x": null,
            "overflow_y": null,
            "padding": null,
            "right": null,
            "top": null,
            "visibility": null,
            "width": null
          }
        },
        "2e00bd0762df455084843023c73962d7": {
          "model_module": "@jupyter-widgets/controls",
          "model_module_version": "1.5.0",
          "model_name": "DescriptionStyleModel",
          "state": {
            "_model_module": "@jupyter-widgets/controls",
            "_model_module_version": "1.5.0",
            "_model_name": "DescriptionStyleModel",
            "_view_count": null,
            "_view_module": "@jupyter-widgets/base",
            "_view_module_version": "1.2.0",
            "_view_name": "StyleView",
            "description_width": ""
          }
        },
        "2ede32b136fe4aa3978639352e733669": {
          "model_module": "@jupyter-widgets/base",
          "model_module_version": "1.2.0",
          "model_name": "LayoutModel",
          "state": {
            "_model_module": "@jupyter-widgets/base",
            "_model_module_version": "1.2.0",
            "_model_name": "LayoutModel",
            "_view_count": null,
            "_view_module": "@jupyter-widgets/base",
            "_view_module_version": "1.2.0",
            "_view_name": "LayoutView",
            "align_content": null,
            "align_items": null,
            "align_self": null,
            "border": null,
            "bottom": null,
            "display": null,
            "flex": null,
            "flex_flow": null,
            "grid_area": null,
            "grid_auto_columns": null,
            "grid_auto_flow": null,
            "grid_auto_rows": null,
            "grid_column": null,
            "grid_gap": null,
            "grid_row": null,
            "grid_template_areas": null,
            "grid_template_columns": null,
            "grid_template_rows": null,
            "height": null,
            "justify_content": null,
            "justify_items": null,
            "left": null,
            "margin": null,
            "max_height": null,
            "max_width": null,
            "min_height": null,
            "min_width": null,
            "object_fit": null,
            "object_position": null,
            "order": null,
            "overflow": null,
            "overflow_x": null,
            "overflow_y": null,
            "padding": null,
            "right": null,
            "top": null,
            "visibility": null,
            "width": null
          }
        },
        "39aa80d2279043d8b3c2fc0da8610bb9": {
          "model_module": "@jupyter-widgets/controls",
          "model_module_version": "1.5.0",
          "model_name": "FloatProgressModel",
          "state": {
            "_dom_classes": [],
            "_model_module": "@jupyter-widgets/controls",
            "_model_module_version": "1.5.0",
            "_model_name": "FloatProgressModel",
            "_view_count": null,
            "_view_module": "@jupyter-widgets/controls",
            "_view_module_version": "1.5.0",
            "_view_name": "ProgressView",
            "bar_style": "success",
            "description": "",
            "description_tooltip": null,
            "layout": "IPY_MODEL_0f7fe5db654941ac81ee6b9cecea819d",
            "max": 25,
            "min": 0,
            "orientation": "horizontal",
            "style": "IPY_MODEL_975d3cb4efbd4e98b654643d0108e429",
            "value": 25
          }
        },
        "40e88805e3954d18bffcf51526933330": {
          "model_module": "@jupyter-widgets/controls",
          "model_module_version": "1.5.0",
          "model_name": "HTMLModel",
          "state": {
            "_dom_classes": [],
            "_model_module": "@jupyter-widgets/controls",
            "_model_module_version": "1.5.0",
            "_model_name": "HTMLModel",
            "_view_count": null,
            "_view_module": "@jupyter-widgets/controls",
            "_view_module_version": "1.5.0",
            "_view_name": "HTMLView",
            "description": "",
            "description_tooltip": null,
            "layout": "IPY_MODEL_194f55d8206143eda47bfa5bfc82fe18",
            "placeholder": "​",
            "style": "IPY_MODEL_fff9daee7f47491098198924099d90d1",
            "value": " 25.0/25.0 [00:00&lt;00:00, 1.82kB/s]"
          }
        },
        "4535201fdd404420bcb1e303b3c66ef8": {
          "model_module": "@jupyter-widgets/base",
          "model_module_version": "1.2.0",
          "model_name": "LayoutModel",
          "state": {
            "_model_module": "@jupyter-widgets/base",
            "_model_module_version": "1.2.0",
            "_model_name": "LayoutModel",
            "_view_count": null,
            "_view_module": "@jupyter-widgets/base",
            "_view_module_version": "1.2.0",
            "_view_name": "LayoutView",
            "align_content": null,
            "align_items": null,
            "align_self": null,
            "border": null,
            "bottom": null,
            "display": null,
            "flex": null,
            "flex_flow": null,
            "grid_area": null,
            "grid_auto_columns": null,
            "grid_auto_flow": null,
            "grid_auto_rows": null,
            "grid_column": null,
            "grid_gap": null,
            "grid_row": null,
            "grid_template_areas": null,
            "grid_template_columns": null,
            "grid_template_rows": null,
            "height": null,
            "justify_content": null,
            "justify_items": null,
            "left": null,
            "margin": null,
            "max_height": null,
            "max_width": null,
            "min_height": null,
            "min_width": null,
            "object_fit": null,
            "object_position": null,
            "order": null,
            "overflow": null,
            "overflow_x": null,
            "overflow_y": null,
            "padding": null,
            "right": null,
            "top": null,
            "visibility": null,
            "width": null
          }
        },
        "4b46cd1805854b6587dc79c3720c8cb5": {
          "model_module": "@jupyter-widgets/controls",
          "model_module_version": "1.5.0",
          "model_name": "DescriptionStyleModel",
          "state": {
            "_model_module": "@jupyter-widgets/controls",
            "_model_module_version": "1.5.0",
            "_model_name": "DescriptionStyleModel",
            "_view_count": null,
            "_view_module": "@jupyter-widgets/base",
            "_view_module_version": "1.2.0",
            "_view_name": "StyleView",
            "description_width": ""
          }
        },
        "5c5c53603acb4919a4b8041ec157f31c": {
          "model_module": "@jupyter-widgets/controls",
          "model_module_version": "1.5.0",
          "model_name": "DescriptionStyleModel",
          "state": {
            "_model_module": "@jupyter-widgets/controls",
            "_model_module_version": "1.5.0",
            "_model_name": "DescriptionStyleModel",
            "_view_count": null,
            "_view_module": "@jupyter-widgets/base",
            "_view_module_version": "1.2.0",
            "_view_name": "StyleView",
            "description_width": ""
          }
        },
        "5d09ebea498e4827bbe9c9e7915355f9": {
          "model_module": "@jupyter-widgets/controls",
          "model_module_version": "1.5.0",
          "model_name": "FloatProgressModel",
          "state": {
            "_dom_classes": [],
            "_model_module": "@jupyter-widgets/controls",
            "_model_module_version": "1.5.0",
            "_model_name": "FloatProgressModel",
            "_view_count": null,
            "_view_module": "@jupyter-widgets/controls",
            "_view_module_version": "1.5.0",
            "_view_name": "ProgressView",
            "bar_style": "success",
            "description": "",
            "description_tooltip": null,
            "layout": "IPY_MODEL_cb50d6b5d93a4e77aaa03045bc70a452",
            "max": 5069051,
            "min": 0,
            "orientation": "horizontal",
            "style": "IPY_MODEL_280bc901b518459199bcb424d677fed2",
            "value": 5069051
          }
        },
        "5e0d9d207ea64c71b6442ab5b916a561": {
          "model_module": "@jupyter-widgets/controls",
          "model_module_version": "1.5.0",
          "model_name": "DescriptionStyleModel",
          "state": {
            "_model_module": "@jupyter-widgets/controls",
            "_model_module_version": "1.5.0",
            "_model_name": "DescriptionStyleModel",
            "_view_count": null,
            "_view_module": "@jupyter-widgets/base",
            "_view_module_version": "1.2.0",
            "_view_name": "StyleView",
            "description_width": ""
          }
        },
        "6261bfbc46b548dd9ebcb38e20ac1018": {
          "model_module": "@jupyter-widgets/base",
          "model_module_version": "1.2.0",
          "model_name": "LayoutModel",
          "state": {
            "_model_module": "@jupyter-widgets/base",
            "_model_module_version": "1.2.0",
            "_model_name": "LayoutModel",
            "_view_count": null,
            "_view_module": "@jupyter-widgets/base",
            "_view_module_version": "1.2.0",
            "_view_name": "LayoutView",
            "align_content": null,
            "align_items": null,
            "align_self": null,
            "border": null,
            "bottom": null,
            "display": null,
            "flex": null,
            "flex_flow": null,
            "grid_area": null,
            "grid_auto_columns": null,
            "grid_auto_flow": null,
            "grid_auto_rows": null,
            "grid_column": null,
            "grid_gap": null,
            "grid_row": null,
            "grid_template_areas": null,
            "grid_template_columns": null,
            "grid_template_rows": null,
            "height": null,
            "justify_content": null,
            "justify_items": null,
            "left": null,
            "margin": null,
            "max_height": null,
            "max_width": null,
            "min_height": null,
            "min_width": null,
            "object_fit": null,
            "object_position": null,
            "order": null,
            "overflow": null,
            "overflow_x": null,
            "overflow_y": null,
            "padding": null,
            "right": null,
            "top": null,
            "visibility": null,
            "width": null
          }
        },
        "655bac3336f6459b8499cc2329d3f649": {
          "model_module": "@jupyter-widgets/controls",
          "model_module_version": "1.5.0",
          "model_name": "HTMLModel",
          "state": {
            "_dom_classes": [],
            "_model_module": "@jupyter-widgets/controls",
            "_model_module_version": "1.5.0",
            "_model_name": "HTMLModel",
            "_view_count": null,
            "_view_module": "@jupyter-widgets/controls",
            "_view_module_version": "1.5.0",
            "_view_name": "HTMLView",
            "description": "",
            "description_tooltip": null,
            "layout": "IPY_MODEL_6261bfbc46b548dd9ebcb38e20ac1018",
            "placeholder": "​",
            "style": "IPY_MODEL_7d41d3aa52e34278b8028b7249eafa1d",
            "value": " 1.12G/1.12G [00:24&lt;00:00, 56.9MB/s]"
          }
        },
        "65b232806186412fb452c586304375d0": {
          "model_module": "@jupyter-widgets/base",
          "model_module_version": "1.2.0",
          "model_name": "LayoutModel",
          "state": {
            "_model_module": "@jupyter-widgets/base",
            "_model_module_version": "1.2.0",
            "_model_name": "LayoutModel",
            "_view_count": null,
            "_view_module": "@jupyter-widgets/base",
            "_view_module_version": "1.2.0",
            "_view_name": "LayoutView",
            "align_content": null,
            "align_items": null,
            "align_self": null,
            "border": null,
            "bottom": null,
            "display": null,
            "flex": null,
            "flex_flow": null,
            "grid_area": null,
            "grid_auto_columns": null,
            "grid_auto_flow": null,
            "grid_auto_rows": null,
            "grid_column": null,
            "grid_gap": null,
            "grid_row": null,
            "grid_template_areas": null,
            "grid_template_columns": null,
            "grid_template_rows": null,
            "height": null,
            "justify_content": null,
            "justify_items": null,
            "left": null,
            "margin": null,
            "max_height": null,
            "max_width": null,
            "min_height": null,
            "min_width": null,
            "object_fit": null,
            "object_position": null,
            "order": null,
            "overflow": null,
            "overflow_x": null,
            "overflow_y": null,
            "padding": null,
            "right": null,
            "top": null,
            "visibility": null,
            "width": null
          }
        },
        "6676d37378bf4a46a43467ea1adf732c": {
          "model_module": "@jupyter-widgets/controls",
          "model_module_version": "1.5.0",
          "model_name": "HBoxModel",
          "state": {
            "_dom_classes": [],
            "_model_module": "@jupyter-widgets/controls",
            "_model_module_version": "1.5.0",
            "_model_name": "HBoxModel",
            "_view_count": null,
            "_view_module": "@jupyter-widgets/controls",
            "_view_module_version": "1.5.0",
            "_view_name": "HBoxView",
            "box_style": "",
            "children": [
              "IPY_MODEL_1573850cd4c347b4b166b1636a437d82",
              "IPY_MODEL_7747298431354fae93d2f2519476e148",
              "IPY_MODEL_fea89eb175ff4466a58a69a9ed68f862"
            ],
            "layout": "IPY_MODEL_8dbbcf29b5b043e2b6bfe412b6d24fb5"
          }
        },
        "7747298431354fae93d2f2519476e148": {
          "model_module": "@jupyter-widgets/controls",
          "model_module_version": "1.5.0",
          "model_name": "FloatProgressModel",
          "state": {
            "_dom_classes": [],
            "_model_module": "@jupyter-widgets/controls",
            "_model_module_version": "1.5.0",
            "_model_name": "FloatProgressModel",
            "_view_count": null,
            "_view_module": "@jupyter-widgets/controls",
            "_view_module_version": "1.5.0",
            "_view_name": "ProgressView",
            "bar_style": "success",
            "description": "",
            "description_tooltip": null,
            "layout": "IPY_MODEL_fc312e3d1cde46198e90741e5b6bcfcb",
            "max": 615,
            "min": 0,
            "orientation": "horizontal",
            "style": "IPY_MODEL_a207708d84e441fba5cb1c4b6429b16a",
            "value": 615
          }
        },
        "77626c26171c4d888d939c962c295d77": {
          "model_module": "@jupyter-widgets/controls",
          "model_module_version": "1.5.0",
          "model_name": "HTMLModel",
          "state": {
            "_dom_classes": [],
            "_model_module": "@jupyter-widgets/controls",
            "_model_module_version": "1.5.0",
            "_model_name": "HTMLModel",
            "_view_count": null,
            "_view_module": "@jupyter-widgets/controls",
            "_view_module_version": "1.5.0",
            "_view_name": "HTMLView",
            "description": "",
            "description_tooltip": null,
            "layout": "IPY_MODEL_e1643e07f31342119e7c078747fa4a3a",
            "placeholder": "​",
            "style": "IPY_MODEL_d70a596a812c4c7fb255979ecfbc1a68",
            "value": " 5.07M/5.07M [00:00&lt;00:00, 19.0MB/s]"
          }
        },
        "7d41d3aa52e34278b8028b7249eafa1d": {
          "model_module": "@jupyter-widgets/controls",
          "model_module_version": "1.5.0",
          "model_name": "DescriptionStyleModel",
          "state": {
            "_model_module": "@jupyter-widgets/controls",
            "_model_module_version": "1.5.0",
            "_model_name": "DescriptionStyleModel",
            "_view_count": null,
            "_view_module": "@jupyter-widgets/base",
            "_view_module_version": "1.2.0",
            "_view_name": "StyleView",
            "description_width": ""
          }
        },
        "823c512b7e6f4e8daef021d31f97a2b6": {
          "model_module": "@jupyter-widgets/controls",
          "model_module_version": "1.5.0",
          "model_name": "HBoxModel",
          "state": {
            "_dom_classes": [],
            "_model_module": "@jupyter-widgets/controls",
            "_model_module_version": "1.5.0",
            "_model_name": "HBoxModel",
            "_view_count": null,
            "_view_module": "@jupyter-widgets/controls",
            "_view_module_version": "1.5.0",
            "_view_name": "HBoxView",
            "box_style": "",
            "children": [
              "IPY_MODEL_1cd134cc2f7347ddbb9fe02b79319b05",
              "IPY_MODEL_39aa80d2279043d8b3c2fc0da8610bb9",
              "IPY_MODEL_40e88805e3954d18bffcf51526933330"
            ],
            "layout": "IPY_MODEL_c8ed14bfc09d45ed8a9c6dcf01222e5f"
          }
        },
        "837de3a3644d4a3081fa7a94fef66153": {
          "model_module": "@jupyter-widgets/controls",
          "model_module_version": "1.5.0",
          "model_name": "HTMLModel",
          "state": {
            "_dom_classes": [],
            "_model_module": "@jupyter-widgets/controls",
            "_model_module_version": "1.5.0",
            "_model_name": "HTMLModel",
            "_view_count": null,
            "_view_module": "@jupyter-widgets/controls",
            "_view_module_version": "1.5.0",
            "_view_name": "HTMLView",
            "description": "",
            "description_tooltip": null,
            "layout": "IPY_MODEL_e6839cf39bdc4291a43f1e8e7c6ea4ee",
            "placeholder": "​",
            "style": "IPY_MODEL_5e0d9d207ea64c71b6442ab5b916a561",
            "value": "sentencepiece.bpe.model: 100%"
          }
        },
        "8b12cbe09f3a4750b3dacd3c72788d23": {
          "model_module": "@jupyter-widgets/controls",
          "model_module_version": "1.5.0",
          "model_name": "ProgressStyleModel",
          "state": {
            "_model_module": "@jupyter-widgets/controls",
            "_model_module_version": "1.5.0",
            "_model_name": "ProgressStyleModel",
            "_view_count": null,
            "_view_module": "@jupyter-widgets/base",
            "_view_module_version": "1.2.0",
            "_view_name": "StyleView",
            "bar_color": null,
            "description_width": ""
          }
        },
        "8dbbcf29b5b043e2b6bfe412b6d24fb5": {
          "model_module": "@jupyter-widgets/base",
          "model_module_version": "1.2.0",
          "model_name": "LayoutModel",
          "state": {
            "_model_module": "@jupyter-widgets/base",
            "_model_module_version": "1.2.0",
            "_model_name": "LayoutModel",
            "_view_count": null,
            "_view_module": "@jupyter-widgets/base",
            "_view_module_version": "1.2.0",
            "_view_name": "LayoutView",
            "align_content": null,
            "align_items": null,
            "align_self": null,
            "border": null,
            "bottom": null,
            "display": null,
            "flex": null,
            "flex_flow": null,
            "grid_area": null,
            "grid_auto_columns": null,
            "grid_auto_flow": null,
            "grid_auto_rows": null,
            "grid_column": null,
            "grid_gap": null,
            "grid_row": null,
            "grid_template_areas": null,
            "grid_template_columns": null,
            "grid_template_rows": null,
            "height": null,
            "justify_content": null,
            "justify_items": null,
            "left": null,
            "margin": null,
            "max_height": null,
            "max_width": null,
            "min_height": null,
            "min_width": null,
            "object_fit": null,
            "object_position": null,
            "order": null,
            "overflow": null,
            "overflow_x": null,
            "overflow_y": null,
            "padding": null,
            "right": null,
            "top": null,
            "visibility": null,
            "width": null
          }
        },
        "9164eb91afa641259d3fa6fb43d818f4": {
          "model_module": "@jupyter-widgets/controls",
          "model_module_version": "1.5.0",
          "model_name": "HTMLModel",
          "state": {
            "_dom_classes": [],
            "_model_module": "@jupyter-widgets/controls",
            "_model_module_version": "1.5.0",
            "_model_name": "HTMLModel",
            "_view_count": null,
            "_view_module": "@jupyter-widgets/controls",
            "_view_module_version": "1.5.0",
            "_view_name": "HTMLView",
            "description": "",
            "description_tooltip": null,
            "layout": "IPY_MODEL_db9dc093f9d944f084eed3e1b2273621",
            "placeholder": "​",
            "style": "IPY_MODEL_e368de91e99e4c169a3b78601972ea1a",
            "value": "model.safetensors: 100%"
          }
        },
        "975d3cb4efbd4e98b654643d0108e429": {
          "model_module": "@jupyter-widgets/controls",
          "model_module_version": "1.5.0",
          "model_name": "ProgressStyleModel",
          "state": {
            "_model_module": "@jupyter-widgets/controls",
            "_model_module_version": "1.5.0",
            "_model_name": "ProgressStyleModel",
            "_view_count": null,
            "_view_module": "@jupyter-widgets/base",
            "_view_module_version": "1.2.0",
            "_view_name": "StyleView",
            "bar_color": null,
            "description_width": ""
          }
        },
        "a207708d84e441fba5cb1c4b6429b16a": {
          "model_module": "@jupyter-widgets/controls",
          "model_module_version": "1.5.0",
          "model_name": "ProgressStyleModel",
          "state": {
            "_model_module": "@jupyter-widgets/controls",
            "_model_module_version": "1.5.0",
            "_model_name": "ProgressStyleModel",
            "_view_count": null,
            "_view_module": "@jupyter-widgets/base",
            "_view_module_version": "1.2.0",
            "_view_name": "StyleView",
            "bar_color": null,
            "description_width": ""
          }
        },
        "a41189cd5abc449ab53c8c9f8689140b": {
          "model_module": "@jupyter-widgets/controls",
          "model_module_version": "1.5.0",
          "model_name": "DescriptionStyleModel",
          "state": {
            "_model_module": "@jupyter-widgets/controls",
            "_model_module_version": "1.5.0",
            "_model_name": "DescriptionStyleModel",
            "_view_count": null,
            "_view_module": "@jupyter-widgets/base",
            "_view_module_version": "1.2.0",
            "_view_name": "StyleView",
            "description_width": ""
          }
        },
        "a49f07d49223452eb02c44785c0ff6a9": {
          "model_module": "@jupyter-widgets/controls",
          "model_module_version": "1.5.0",
          "model_name": "FloatProgressModel",
          "state": {
            "_dom_classes": [],
            "_model_module": "@jupyter-widgets/controls",
            "_model_module_version": "1.5.0",
            "_model_name": "FloatProgressModel",
            "_view_count": null,
            "_view_module": "@jupyter-widgets/controls",
            "_view_module_version": "1.5.0",
            "_view_name": "ProgressView",
            "bar_style": "success",
            "description": "",
            "description_tooltip": null,
            "layout": "IPY_MODEL_10822a31b0024eb39aed13c02bf414df",
            "max": 9096718,
            "min": 0,
            "orientation": "horizontal",
            "style": "IPY_MODEL_e37142b626ca41ea8a5ea85ba8f10fd5",
            "value": 9096718
          }
        },
        "b7bb261c2255447ea10595000482b947": {
          "model_module": "@jupyter-widgets/controls",
          "model_module_version": "1.5.0",
          "model_name": "HBoxModel",
          "state": {
            "_dom_classes": [],
            "_model_module": "@jupyter-widgets/controls",
            "_model_module_version": "1.5.0",
            "_model_name": "HBoxModel",
            "_view_count": null,
            "_view_module": "@jupyter-widgets/controls",
            "_view_module_version": "1.5.0",
            "_view_name": "HBoxView",
            "box_style": "",
            "children": [
              "IPY_MODEL_2a2d282f510c400db7d6c39d815ec62d",
              "IPY_MODEL_a49f07d49223452eb02c44785c0ff6a9",
              "IPY_MODEL_d77df5c69fd6412aa94d089d686886cc"
            ],
            "layout": "IPY_MODEL_65b232806186412fb452c586304375d0"
          }
        },
        "c8ed14bfc09d45ed8a9c6dcf01222e5f": {
          "model_module": "@jupyter-widgets/base",
          "model_module_version": "1.2.0",
          "model_name": "LayoutModel",
          "state": {
            "_model_module": "@jupyter-widgets/base",
            "_model_module_version": "1.2.0",
            "_model_name": "LayoutModel",
            "_view_count": null,
            "_view_module": "@jupyter-widgets/base",
            "_view_module_version": "1.2.0",
            "_view_name": "LayoutView",
            "align_content": null,
            "align_items": null,
            "align_self": null,
            "border": null,
            "bottom": null,
            "display": null,
            "flex": null,
            "flex_flow": null,
            "grid_area": null,
            "grid_auto_columns": null,
            "grid_auto_flow": null,
            "grid_auto_rows": null,
            "grid_column": null,
            "grid_gap": null,
            "grid_row": null,
            "grid_template_areas": null,
            "grid_template_columns": null,
            "grid_template_rows": null,
            "height": null,
            "justify_content": null,
            "justify_items": null,
            "left": null,
            "margin": null,
            "max_height": null,
            "max_width": null,
            "min_height": null,
            "min_width": null,
            "object_fit": null,
            "object_position": null,
            "order": null,
            "overflow": null,
            "overflow_x": null,
            "overflow_y": null,
            "padding": null,
            "right": null,
            "top": null,
            "visibility": null,
            "width": null
          }
        },
        "cb50d6b5d93a4e77aaa03045bc70a452": {
          "model_module": "@jupyter-widgets/base",
          "model_module_version": "1.2.0",
          "model_name": "LayoutModel",
          "state": {
            "_model_module": "@jupyter-widgets/base",
            "_model_module_version": "1.2.0",
            "_model_name": "LayoutModel",
            "_view_count": null,
            "_view_module": "@jupyter-widgets/base",
            "_view_module_version": "1.2.0",
            "_view_name": "LayoutView",
            "align_content": null,
            "align_items": null,
            "align_self": null,
            "border": null,
            "bottom": null,
            "display": null,
            "flex": null,
            "flex_flow": null,
            "grid_area": null,
            "grid_auto_columns": null,
            "grid_auto_flow": null,
            "grid_auto_rows": null,
            "grid_column": null,
            "grid_gap": null,
            "grid_row": null,
            "grid_template_areas": null,
            "grid_template_columns": null,
            "grid_template_rows": null,
            "height": null,
            "justify_content": null,
            "justify_items": null,
            "left": null,
            "margin": null,
            "max_height": null,
            "max_width": null,
            "min_height": null,
            "min_width": null,
            "object_fit": null,
            "object_position": null,
            "order": null,
            "overflow": null,
            "overflow_x": null,
            "overflow_y": null,
            "padding": null,
            "right": null,
            "top": null,
            "visibility": null,
            "width": null
          }
        },
        "d625ed0ab1a141f095bbf2619be1d9df": {
          "model_module": "@jupyter-widgets/base",
          "model_module_version": "1.2.0",
          "model_name": "LayoutModel",
          "state": {
            "_model_module": "@jupyter-widgets/base",
            "_model_module_version": "1.2.0",
            "_model_name": "LayoutModel",
            "_view_count": null,
            "_view_module": "@jupyter-widgets/base",
            "_view_module_version": "1.2.0",
            "_view_name": "LayoutView",
            "align_content": null,
            "align_items": null,
            "align_self": null,
            "border": null,
            "bottom": null,
            "display": null,
            "flex": null,
            "flex_flow": null,
            "grid_area": null,
            "grid_auto_columns": null,
            "grid_auto_flow": null,
            "grid_auto_rows": null,
            "grid_column": null,
            "grid_gap": null,
            "grid_row": null,
            "grid_template_areas": null,
            "grid_template_columns": null,
            "grid_template_rows": null,
            "height": null,
            "justify_content": null,
            "justify_items": null,
            "left": null,
            "margin": null,
            "max_height": null,
            "max_width": null,
            "min_height": null,
            "min_width": null,
            "object_fit": null,
            "object_position": null,
            "order": null,
            "overflow": null,
            "overflow_x": null,
            "overflow_y": null,
            "padding": null,
            "right": null,
            "top": null,
            "visibility": null,
            "width": null
          }
        },
        "d70a596a812c4c7fb255979ecfbc1a68": {
          "model_module": "@jupyter-widgets/controls",
          "model_module_version": "1.5.0",
          "model_name": "DescriptionStyleModel",
          "state": {
            "_model_module": "@jupyter-widgets/controls",
            "_model_module_version": "1.5.0",
            "_model_name": "DescriptionStyleModel",
            "_view_count": null,
            "_view_module": "@jupyter-widgets/base",
            "_view_module_version": "1.2.0",
            "_view_name": "StyleView",
            "description_width": ""
          }
        },
        "d77df5c69fd6412aa94d089d686886cc": {
          "model_module": "@jupyter-widgets/controls",
          "model_module_version": "1.5.0",
          "model_name": "HTMLModel",
          "state": {
            "_dom_classes": [],
            "_model_module": "@jupyter-widgets/controls",
            "_model_module_version": "1.5.0",
            "_model_name": "HTMLModel",
            "_view_count": null,
            "_view_module": "@jupyter-widgets/controls",
            "_view_module_version": "1.5.0",
            "_view_name": "HTMLView",
            "description": "",
            "description_tooltip": null,
            "layout": "IPY_MODEL_02fa6cb50acf475b915451c399eb5bd7",
            "placeholder": "​",
            "style": "IPY_MODEL_2e00bd0762df455084843023c73962d7",
            "value": " 9.10M/9.10M [00:00&lt;00:00, 26.7MB/s]"
          }
        },
        "db9dc093f9d944f084eed3e1b2273621": {
          "model_module": "@jupyter-widgets/base",
          "model_module_version": "1.2.0",
          "model_name": "LayoutModel",
          "state": {
            "_model_module": "@jupyter-widgets/base",
            "_model_module_version": "1.2.0",
            "_model_name": "LayoutModel",
            "_view_count": null,
            "_view_module": "@jupyter-widgets/base",
            "_view_module_version": "1.2.0",
            "_view_name": "LayoutView",
            "align_content": null,
            "align_items": null,
            "align_self": null,
            "border": null,
            "bottom": null,
            "display": null,
            "flex": null,
            "flex_flow": null,
            "grid_area": null,
            "grid_auto_columns": null,
            "grid_auto_flow": null,
            "grid_auto_rows": null,
            "grid_column": null,
            "grid_gap": null,
            "grid_row": null,
            "grid_template_areas": null,
            "grid_template_columns": null,
            "grid_template_rows": null,
            "height": null,
            "justify_content": null,
            "justify_items": null,
            "left": null,
            "margin": null,
            "max_height": null,
            "max_width": null,
            "min_height": null,
            "min_width": null,
            "object_fit": null,
            "object_position": null,
            "order": null,
            "overflow": null,
            "overflow_x": null,
            "overflow_y": null,
            "padding": null,
            "right": null,
            "top": null,
            "visibility": null,
            "width": null
          }
        },
        "e1643e07f31342119e7c078747fa4a3a": {
          "model_module": "@jupyter-widgets/base",
          "model_module_version": "1.2.0",
          "model_name": "LayoutModel",
          "state": {
            "_model_module": "@jupyter-widgets/base",
            "_model_module_version": "1.2.0",
            "_model_name": "LayoutModel",
            "_view_count": null,
            "_view_module": "@jupyter-widgets/base",
            "_view_module_version": "1.2.0",
            "_view_name": "LayoutView",
            "align_content": null,
            "align_items": null,
            "align_self": null,
            "border": null,
            "bottom": null,
            "display": null,
            "flex": null,
            "flex_flow": null,
            "grid_area": null,
            "grid_auto_columns": null,
            "grid_auto_flow": null,
            "grid_auto_rows": null,
            "grid_column": null,
            "grid_gap": null,
            "grid_row": null,
            "grid_template_areas": null,
            "grid_template_columns": null,
            "grid_template_rows": null,
            "height": null,
            "justify_content": null,
            "justify_items": null,
            "left": null,
            "margin": null,
            "max_height": null,
            "max_width": null,
            "min_height": null,
            "min_width": null,
            "object_fit": null,
            "object_position": null,
            "order": null,
            "overflow": null,
            "overflow_x": null,
            "overflow_y": null,
            "padding": null,
            "right": null,
            "top": null,
            "visibility": null,
            "width": null
          }
        },
        "e368de91e99e4c169a3b78601972ea1a": {
          "model_module": "@jupyter-widgets/controls",
          "model_module_version": "1.5.0",
          "model_name": "DescriptionStyleModel",
          "state": {
            "_model_module": "@jupyter-widgets/controls",
            "_model_module_version": "1.5.0",
            "_model_name": "DescriptionStyleModel",
            "_view_count": null,
            "_view_module": "@jupyter-widgets/base",
            "_view_module_version": "1.2.0",
            "_view_name": "StyleView",
            "description_width": ""
          }
        },
        "e37142b626ca41ea8a5ea85ba8f10fd5": {
          "model_module": "@jupyter-widgets/controls",
          "model_module_version": "1.5.0",
          "model_name": "ProgressStyleModel",
          "state": {
            "_model_module": "@jupyter-widgets/controls",
            "_model_module_version": "1.5.0",
            "_model_name": "ProgressStyleModel",
            "_view_count": null,
            "_view_module": "@jupyter-widgets/base",
            "_view_module_version": "1.2.0",
            "_view_name": "StyleView",
            "bar_color": null,
            "description_width": ""
          }
        },
        "e6839cf39bdc4291a43f1e8e7c6ea4ee": {
          "model_module": "@jupyter-widgets/base",
          "model_module_version": "1.2.0",
          "model_name": "LayoutModel",
          "state": {
            "_model_module": "@jupyter-widgets/base",
            "_model_module_version": "1.2.0",
            "_model_name": "LayoutModel",
            "_view_count": null,
            "_view_module": "@jupyter-widgets/base",
            "_view_module_version": "1.2.0",
            "_view_name": "LayoutView",
            "align_content": null,
            "align_items": null,
            "align_self": null,
            "border": null,
            "bottom": null,
            "display": null,
            "flex": null,
            "flex_flow": null,
            "grid_area": null,
            "grid_auto_columns": null,
            "grid_auto_flow": null,
            "grid_auto_rows": null,
            "grid_column": null,
            "grid_gap": null,
            "grid_row": null,
            "grid_template_areas": null,
            "grid_template_columns": null,
            "grid_template_rows": null,
            "height": null,
            "justify_content": null,
            "justify_items": null,
            "left": null,
            "margin": null,
            "max_height": null,
            "max_width": null,
            "min_height": null,
            "min_width": null,
            "object_fit": null,
            "object_position": null,
            "order": null,
            "overflow": null,
            "overflow_x": null,
            "overflow_y": null,
            "padding": null,
            "right": null,
            "top": null,
            "visibility": null,
            "width": null
          }
        },
        "ee48771ca5264d03800928d1cf7becce": {
          "model_module": "@jupyter-widgets/base",
          "model_module_version": "1.2.0",
          "model_name": "LayoutModel",
          "state": {
            "_model_module": "@jupyter-widgets/base",
            "_model_module_version": "1.2.0",
            "_model_name": "LayoutModel",
            "_view_count": null,
            "_view_module": "@jupyter-widgets/base",
            "_view_module_version": "1.2.0",
            "_view_name": "LayoutView",
            "align_content": null,
            "align_items": null,
            "align_self": null,
            "border": null,
            "bottom": null,
            "display": null,
            "flex": null,
            "flex_flow": null,
            "grid_area": null,
            "grid_auto_columns": null,
            "grid_auto_flow": null,
            "grid_auto_rows": null,
            "grid_column": null,
            "grid_gap": null,
            "grid_row": null,
            "grid_template_areas": null,
            "grid_template_columns": null,
            "grid_template_rows": null,
            "height": null,
            "justify_content": null,
            "justify_items": null,
            "left": null,
            "margin": null,
            "max_height": null,
            "max_width": null,
            "min_height": null,
            "min_width": null,
            "object_fit": null,
            "object_position": null,
            "order": null,
            "overflow": null,
            "overflow_x": null,
            "overflow_y": null,
            "padding": null,
            "right": null,
            "top": null,
            "visibility": null,
            "width": null
          }
        },
        "ef37c9c4ce2041ca88acb4d45241e0fc": {
          "model_module": "@jupyter-widgets/controls",
          "model_module_version": "1.5.0",
          "model_name": "FloatProgressModel",
          "state": {
            "_dom_classes": [],
            "_model_module": "@jupyter-widgets/controls",
            "_model_module_version": "1.5.0",
            "_model_name": "FloatProgressModel",
            "_view_count": null,
            "_view_module": "@jupyter-widgets/controls",
            "_view_module_version": "1.5.0",
            "_view_name": "ProgressView",
            "bar_style": "success",
            "description": "",
            "description_tooltip": null,
            "layout": "IPY_MODEL_2ede32b136fe4aa3978639352e733669",
            "max": 1115567652,
            "min": 0,
            "orientation": "horizontal",
            "style": "IPY_MODEL_8b12cbe09f3a4750b3dacd3c72788d23",
            "value": 1115567652
          }
        },
        "f1e55d43d08c4038b70da394886b0325": {
          "model_module": "@jupyter-widgets/base",
          "model_module_version": "1.2.0",
          "model_name": "LayoutModel",
          "state": {
            "_model_module": "@jupyter-widgets/base",
            "_model_module_version": "1.2.0",
            "_model_name": "LayoutModel",
            "_view_count": null,
            "_view_module": "@jupyter-widgets/base",
            "_view_module_version": "1.2.0",
            "_view_name": "LayoutView",
            "align_content": null,
            "align_items": null,
            "align_self": null,
            "border": null,
            "bottom": null,
            "display": null,
            "flex": null,
            "flex_flow": null,
            "grid_area": null,
            "grid_auto_columns": null,
            "grid_auto_flow": null,
            "grid_auto_rows": null,
            "grid_column": null,
            "grid_gap": null,
            "grid_row": null,
            "grid_template_areas": null,
            "grid_template_columns": null,
            "grid_template_rows": null,
            "height": null,
            "justify_content": null,
            "justify_items": null,
            "left": null,
            "margin": null,
            "max_height": null,
            "max_width": null,
            "min_height": null,
            "min_width": null,
            "object_fit": null,
            "object_position": null,
            "order": null,
            "overflow": null,
            "overflow_x": null,
            "overflow_y": null,
            "padding": null,
            "right": null,
            "top": null,
            "visibility": null,
            "width": null
          }
        },
        "f2942a9b326a47f5a022aafecdc575f2": {
          "model_module": "@jupyter-widgets/controls",
          "model_module_version": "1.5.0",
          "model_name": "DescriptionStyleModel",
          "state": {
            "_model_module": "@jupyter-widgets/controls",
            "_model_module_version": "1.5.0",
            "_model_name": "DescriptionStyleModel",
            "_view_count": null,
            "_view_module": "@jupyter-widgets/base",
            "_view_module_version": "1.2.0",
            "_view_name": "StyleView",
            "description_width": ""
          }
        },
        "fc312e3d1cde46198e90741e5b6bcfcb": {
          "model_module": "@jupyter-widgets/base",
          "model_module_version": "1.2.0",
          "model_name": "LayoutModel",
          "state": {
            "_model_module": "@jupyter-widgets/base",
            "_model_module_version": "1.2.0",
            "_model_name": "LayoutModel",
            "_view_count": null,
            "_view_module": "@jupyter-widgets/base",
            "_view_module_version": "1.2.0",
            "_view_name": "LayoutView",
            "align_content": null,
            "align_items": null,
            "align_self": null,
            "border": null,
            "bottom": null,
            "display": null,
            "flex": null,
            "flex_flow": null,
            "grid_area": null,
            "grid_auto_columns": null,
            "grid_auto_flow": null,
            "grid_auto_rows": null,
            "grid_column": null,
            "grid_gap": null,
            "grid_row": null,
            "grid_template_areas": null,
            "grid_template_columns": null,
            "grid_template_rows": null,
            "height": null,
            "justify_content": null,
            "justify_items": null,
            "left": null,
            "margin": null,
            "max_height": null,
            "max_width": null,
            "min_height": null,
            "min_width": null,
            "object_fit": null,
            "object_position": null,
            "order": null,
            "overflow": null,
            "overflow_x": null,
            "overflow_y": null,
            "padding": null,
            "right": null,
            "top": null,
            "visibility": null,
            "width": null
          }
        },
        "fea89eb175ff4466a58a69a9ed68f862": {
          "model_module": "@jupyter-widgets/controls",
          "model_module_version": "1.5.0",
          "model_name": "HTMLModel",
          "state": {
            "_dom_classes": [],
            "_model_module": "@jupyter-widgets/controls",
            "_model_module_version": "1.5.0",
            "_model_name": "HTMLModel",
            "_view_count": null,
            "_view_module": "@jupyter-widgets/controls",
            "_view_module_version": "1.5.0",
            "_view_name": "HTMLView",
            "description": "",
            "description_tooltip": null,
            "layout": "IPY_MODEL_ee48771ca5264d03800928d1cf7becce",
            "placeholder": "​",
            "style": "IPY_MODEL_5c5c53603acb4919a4b8041ec157f31c",
            "value": " 615/615 [00:00&lt;00:00, 54.5kB/s]"
          }
        },
        "fff9daee7f47491098198924099d90d1": {
          "model_module": "@jupyter-widgets/controls",
          "model_module_version": "1.5.0",
          "model_name": "DescriptionStyleModel",
          "state": {
            "_model_module": "@jupyter-widgets/controls",
            "_model_module_version": "1.5.0",
            "_model_name": "DescriptionStyleModel",
            "_view_count": null,
            "_view_module": "@jupyter-widgets/base",
            "_view_module_version": "1.2.0",
            "_view_name": "StyleView",
            "description_width": ""
          }
        }
      }
    }
  },
  "nbformat": 4,
  "nbformat_minor": 0
}
